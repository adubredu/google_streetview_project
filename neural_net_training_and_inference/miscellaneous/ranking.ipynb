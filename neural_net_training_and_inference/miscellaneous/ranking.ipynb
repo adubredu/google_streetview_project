{
 "cells": [
  {
   "cell_type": "code",
   "execution_count": 1,
   "metadata": {},
   "outputs": [],
   "source": [
    "from trueskill import Rating, quality_1vs1, rate_1vs1\n",
    "import pandas as pd \n",
    "import numpy as np "
   ]
  },
  {
   "cell_type": "code",
   "execution_count": 2,
   "metadata": {},
   "outputs": [],
   "source": [
    "data = pd.read_csv('hap.csv')"
   ]
  },
  {
   "cell_type": "code",
   "execution_count": 3,
   "metadata": {},
   "outputs": [
    {
     "data": {
      "text/html": [
       "<div>\n",
       "<style scoped>\n",
       "    .dataframe tbody tr th:only-of-type {\n",
       "        vertical-align: middle;\n",
       "    }\n",
       "\n",
       "    .dataframe tbody tr th {\n",
       "        vertical-align: top;\n",
       "    }\n",
       "\n",
       "    .dataframe thead th {\n",
       "        text-align: right;\n",
       "    }\n",
       "</style>\n",
       "<table border=\"1\" class=\"dataframe\">\n",
       "  <thead>\n",
       "    <tr style=\"text-align: right;\">\n",
       "      <th></th>\n",
       "      <th>p1</th>\n",
       "      <th>p2</th>\n",
       "      <th>winner</th>\n",
       "    </tr>\n",
       "  </thead>\n",
       "  <tbody>\n",
       "    <tr>\n",
       "      <th>0</th>\n",
       "      <td>a</td>\n",
       "      <td>b</td>\n",
       "      <td>a</td>\n",
       "    </tr>\n",
       "    <tr>\n",
       "      <th>1</th>\n",
       "      <td>a</td>\n",
       "      <td>c</td>\n",
       "      <td>c</td>\n",
       "    </tr>\n",
       "    <tr>\n",
       "      <th>2</th>\n",
       "      <td>a</td>\n",
       "      <td>d</td>\n",
       "      <td>a</td>\n",
       "    </tr>\n",
       "    <tr>\n",
       "      <th>3</th>\n",
       "      <td>a</td>\n",
       "      <td>e</td>\n",
       "      <td>a</td>\n",
       "    </tr>\n",
       "    <tr>\n",
       "      <th>4</th>\n",
       "      <td>a</td>\n",
       "      <td>f</td>\n",
       "      <td>a</td>\n",
       "    </tr>\n",
       "  </tbody>\n",
       "</table>\n",
       "</div>"
      ],
      "text/plain": [
       "  p1 p2 winner\n",
       "0  a  b      a\n",
       "1  a  c      c\n",
       "2  a  d      a\n",
       "3  a  e      a\n",
       "4  a  f      a"
      ]
     },
     "execution_count": 3,
     "metadata": {},
     "output_type": "execute_result"
    }
   ],
   "source": [
    "data.head()"
   ]
  },
  {
   "cell_type": "code",
   "execution_count": 4,
   "metadata": {},
   "outputs": [],
   "source": [
    "length,_ = data.shape"
   ]
  },
  {
   "cell_type": "code",
   "execution_count": 5,
   "metadata": {},
   "outputs": [],
   "source": [
    "candidates=['a','b','c','d','e','f','g','h','i','j','k']"
   ]
  },
  {
   "cell_type": "code",
   "execution_count": 6,
   "metadata": {},
   "outputs": [],
   "source": [
    "ratings = {'a':Rating(),'b':Rating(),'c':Rating(),'d':Rating(),'e':Rating(),'f':Rating(),'g':Rating(),'h':Rating(),'i':Rating(),'j':Rating(),'k':Rating()}"
   ]
  },
  {
   "cell_type": "code",
   "execution_count": 7,
   "metadata": {},
   "outputs": [
    {
     "data": {
      "text/latex": [
       "$\\mathcal{ N }( 25.000, 8.333^2 )$"
      ],
      "text/plain": [
       "trueskill.Rating(mu=25.000, sigma=8.333)"
      ]
     },
     "execution_count": 7,
     "metadata": {},
     "output_type": "execute_result"
    }
   ],
   "source": [
    "ratings['a']"
   ]
  },
  {
   "cell_type": "code",
   "execution_count": 8,
   "metadata": {},
   "outputs": [],
   "source": [
    "for i in range(length):\n",
    "    p1 = data['p1'][i]\n",
    "    p2 = data['p2'][i]\n",
    "    if data['winner'][i] == p1:\n",
    "        ratings[p1], ratings[p2] = rate_1vs1(ratings[p1], ratings[p2])\n",
    "    else:\n",
    "        ratings[p2], ratings[p1] = rate_1vs1(ratings[p2], ratings[p1])"
   ]
  },
  {
   "cell_type": "code",
   "execution_count": 9,
   "metadata": {},
   "outputs": [
    {
     "data": {
      "text/plain": [
       "{'a': trueskill.Rating(mu=27.259, sigma=3.741),\n",
       " 'b': trueskill.Rating(mu=26.093, sigma=3.472),\n",
       " 'c': trueskill.Rating(mu=22.914, sigma=3.326),\n",
       " 'd': trueskill.Rating(mu=27.163, sigma=3.164),\n",
       " 'e': trueskill.Rating(mu=22.430, sigma=3.104),\n",
       " 'f': trueskill.Rating(mu=19.772, sigma=2.848),\n",
       " 'g': trueskill.Rating(mu=24.186, sigma=2.848),\n",
       " 'h': trueskill.Rating(mu=25.014, sigma=2.706),\n",
       " 'i': trueskill.Rating(mu=23.687, sigma=2.821),\n",
       " 'j': trueskill.Rating(mu=28.052, sigma=2.680),\n",
       " 'k': trueskill.Rating(mu=21.504, sigma=2.806)}"
      ]
     },
     "execution_count": 9,
     "metadata": {},
     "output_type": "execute_result"
    }
   ],
   "source": [
    "ratings"
   ]
  },
  {
   "cell_type": "code",
   "execution_count": 10,
   "metadata": {},
   "outputs": [],
   "source": [
    "#get mu and sigma\n",
    "mus = []; sigmas = []\n",
    "for i in range(len(candidates)):\n",
    "    res = ratings[candidates[i]]\n",
    "    mus.append(res.mu)\n",
    "    sigmas.append(res.sigma) "
   ]
  },
  {
   "cell_type": "code",
   "execution_count": 11,
   "metadata": {},
   "outputs": [
    {
     "data": {
      "text/plain": [
       "[27.259075159069738,\n",
       " 26.0928992366948,\n",
       " 22.914436783975198,\n",
       " 27.16305399558013,\n",
       " 22.43003342541036,\n",
       " 19.772313677128018,\n",
       " 24.186187812694637,\n",
       " 25.013568973171907,\n",
       " 23.68730716702154,\n",
       " 28.05233957201421,\n",
       " 21.50384487355906]"
      ]
     },
     "execution_count": 11,
     "metadata": {},
     "output_type": "execute_result"
    }
   ],
   "source": [
    "mus"
   ]
  },
  {
   "cell_type": "code",
   "execution_count": 12,
   "metadata": {},
   "outputs": [
    {
     "data": {
      "text/plain": [
       "[3.7407173305129735,\n",
       " 3.472495057529087,\n",
       " 3.326100951206937,\n",
       " 3.163811652385915,\n",
       " 3.1040047026669804,\n",
       " 2.847517321166737,\n",
       " 2.848305587362476,\n",
       " 2.705823240808717,\n",
       " 2.8206857070572795,\n",
       " 2.67984014259738,\n",
       " 2.806096887944587]"
      ]
     },
     "execution_count": 12,
     "metadata": {},
     "output_type": "execute_result"
    }
   ],
   "source": [
    "sigmas"
   ]
  },
  {
   "cell_type": "code",
   "execution_count": 13,
   "metadata": {},
   "outputs": [],
   "source": [
    "data.to_csv('depressing_unique.csv')"
   ]
  },
  {
   "cell_type": "code",
   "execution_count": null,
   "metadata": {},
   "outputs": [],
   "source": []
  }
 ],
 "metadata": {
  "kernelspec": {
   "display_name": "Python 3",
   "language": "python",
   "name": "python3"
  },
  "language_info": {
   "codemirror_mode": {
    "name": "ipython",
    "version": 3
   },
   "file_extension": ".py",
   "mimetype": "text/x-python",
   "name": "python",
   "nbconvert_exporter": "python",
   "pygments_lexer": "ipython3",
   "version": "3.7.5"
  }
 },
 "nbformat": 4,
 "nbformat_minor": 2
}
