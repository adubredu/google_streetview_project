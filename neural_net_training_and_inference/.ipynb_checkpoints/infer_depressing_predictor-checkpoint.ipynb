{
 "cells": [
  {
   "cell_type": "code",
   "execution_count": 1,
   "metadata": {},
   "outputs": [
    {
     "name": "stdout",
     "output_type": "stream",
     "text": [
      "PyTorch Version:  1.0.1\n",
      "Torchvision Version:  0.2.1\n"
     ]
    }
   ],
   "source": [
    "from __future__ import print_function\n",
    "from __future__ import division\n",
    "import torch\n",
    "import torch.nn as nn\n",
    "import torch.optim as optim\n",
    "import numpy as np\n",
    "import torchvision\n",
    "import matplotlib.pyplot as plt\n",
    "import time\n",
    "import os\n",
    "import copy\n",
    "from torchvision import datasets, models, transforms\n",
    "\n",
    "import torch.utils.data as utils\n",
    "import torchvision.transforms as transforms\n",
    "from torch.utils.data import DataLoader,Dataset\n",
    "from torch.autograd import Variable\n",
    "import matplotlib.pyplot as plt\n",
    "import torchvision.utils\n",
    "import numpy as np\n",
    "import time\n",
    "from torch.optim import lr_scheduler\n",
    "from PIL import Image\n",
    "import PIL.ImageOps    \n",
    "import torch.nn.functional as F\n",
    "import pandas as pd \n",
    "\n",
    "print(\"PyTorch Version: \",torch.__version__)\n",
    "print(\"Torchvision Version: \",torchvision.__version__)"
   ]
  },
  {
   "cell_type": "code",
   "execution_count": 2,
   "metadata": {},
   "outputs": [],
   "source": [
    "class DepressingNet(nn.Module):\n",
    "    \n",
    "    def __init__(self, model):\n",
    "        super(DepressingNet, self).__init__()\n",
    "        self.model = model\n",
    "        self.output_layer = nn.Sequential(nn.Linear(50,1))\n",
    "\n",
    "    def forward(self, inp):\n",
    "        out = self.model(inp)\n",
    "        res = self.output_layer(out)\n",
    "        return res"
   ]
  },
  {
   "cell_type": "code",
   "execution_count": 3,
   "metadata": {},
   "outputs": [],
   "source": [
    "model_ft = models.vgg11_bn(pretrained=True)\n",
    "num_ftrs = model_ft.classifier[6].in_features\n",
    "model_ft.classifier[6] = nn.Linear(num_ftrs,50)\n",
    "model = DepressingNet(model_ft)\n",
    "\n",
    "model.load_state_dict(torch.load('0_3lossmodel.pt'))"
   ]
  },
  {
   "cell_type": "code",
   "execution_count": 4,
   "metadata": {},
   "outputs": [
    {
     "data": {
      "text/html": [
       "<div>\n",
       "<style scoped>\n",
       "    .dataframe tbody tr th:only-of-type {\n",
       "        vertical-align: middle;\n",
       "    }\n",
       "\n",
       "    .dataframe tbody tr th {\n",
       "        vertical-align: top;\n",
       "    }\n",
       "\n",
       "    .dataframe thead th {\n",
       "        text-align: right;\n",
       "    }\n",
       "</style>\n",
       "<table border=\"1\" class=\"dataframe\">\n",
       "  <thead>\n",
       "    <tr style=\"text-align: right;\">\n",
       "      <th></th>\n",
       "      <th>filename</th>\n",
       "      <th>latitude</th>\n",
       "      <th>longitude</th>\n",
       "      <th>date</th>\n",
       "      <th>scores</th>\n",
       "    </tr>\n",
       "  </thead>\n",
       "  <tbody>\n",
       "    <tr>\n",
       "      <th>0</th>\n",
       "      <td>3372.jpg</td>\n",
       "      <td>41.767587</td>\n",
       "      <td>-72.698546</td>\n",
       "      <td>2018-07</td>\n",
       "      <td>1</td>\n",
       "    </tr>\n",
       "    <tr>\n",
       "      <th>1</th>\n",
       "      <td>10112.jpg</td>\n",
       "      <td>41.772587</td>\n",
       "      <td>-72.645035</td>\n",
       "      <td>2017-07</td>\n",
       "      <td>0</td>\n",
       "    </tr>\n",
       "    <tr>\n",
       "      <th>2</th>\n",
       "      <td>9181.jpg</td>\n",
       "      <td>41.750182</td>\n",
       "      <td>-72.657056</td>\n",
       "      <td>2018-09</td>\n",
       "      <td>0</td>\n",
       "    </tr>\n",
       "    <tr>\n",
       "      <th>3</th>\n",
       "      <td>9380.jpg</td>\n",
       "      <td>41.769742</td>\n",
       "      <td>-72.721771</td>\n",
       "      <td>2018-07</td>\n",
       "      <td>1</td>\n",
       "    </tr>\n",
       "    <tr>\n",
       "      <th>4</th>\n",
       "      <td>4989.jpg</td>\n",
       "      <td>41.782407</td>\n",
       "      <td>-72.688245</td>\n",
       "      <td>2018-10</td>\n",
       "      <td>1</td>\n",
       "    </tr>\n",
       "  </tbody>\n",
       "</table>\n",
       "</div>"
      ],
      "text/plain": [
       "    filename   latitude  longitude     date  scores\n",
       "0   3372.jpg  41.767587 -72.698546  2018-07       1\n",
       "1  10112.jpg  41.772587 -72.645035  2017-07       0\n",
       "2   9181.jpg  41.750182 -72.657056  2018-09       0\n",
       "3   9380.jpg  41.769742 -72.721771  2018-07       1\n",
       "4   4989.jpg  41.782407 -72.688245  2018-10       1"
      ]
     },
     "execution_count": 4,
     "metadata": {},
     "output_type": "execute_result"
    }
   ],
   "source": [
    "hartforddf = pd.read_csv('hartford.csv')\n",
    "hartforddf.head()"
   ]
  },
  {
   "cell_type": "code",
   "execution_count": 5,
   "metadata": {},
   "outputs": [
    {
     "data": {
      "text/plain": [
       "(11693, 5)"
      ]
     },
     "execution_count": 5,
     "metadata": {},
     "output_type": "execute_result"
    }
   ],
   "source": [
    "hartforddf.shape"
   ]
  },
  {
   "cell_type": "code",
   "execution_count": 6,
   "metadata": {},
   "outputs": [],
   "source": [
    "transform = transforms.Compose([transforms.Resize((224, 224)),\n",
    "                                        transforms.RandomHorizontalFlip(),\n",
    "                                        transforms.ToTensor(),\n",
    "                                        transforms.Normalize([0.485, 0.456, 0.406], [0.229, 0.224, 0.225])\n",
    "                                                                      ])\n",
    "def imshow(img,text=None,should_save=False):\n",
    "    npimg = img.numpy()\n",
    "    plt.axis(\"off\")\n",
    "    if text:\n",
    "        plt.text(75, 8, text, style='italic',fontweight='bold',\n",
    "            bbox={'facecolor':'white', 'alpha':0.8, 'pad':10})\n",
    "    plt.imshow(np.transpose(npimg, (1, 2, 0)))\n",
    "    plt.show()    \n",
    "    \n",
    "def open_image(name):\n",
    "    path = os.path.join('/home/bill/urban_planning/ranking_prediction/HARTFORD_IMAGES/', str(name))\n",
    "    image = Image.open(path)\n",
    "    img = transform(image) \n",
    "    return img\n",
    "    "
   ]
  },
  {
   "cell_type": "code",
   "execution_count": 7,
   "metadata": {},
   "outputs": [
    {
     "name": "stdout",
     "output_type": "stream",
     "text": [
      "1000\n",
      "2000\n",
      "3000\n",
      "4000\n",
      "5000\n",
      "6000\n",
      "7000\n",
      "8000\n",
      "9000\n",
      "10000\n",
      "11000\n"
     ]
    }
   ],
   "source": [
    "model=model.to('cuda:0')\n",
    "dep_scores=[]\n",
    "count = 0\n",
    "for i in hartforddf['filename']:\n",
    "    img = open_image(i).unsqueeze(0)\n",
    "    img = img.to('cuda:0')\n",
    "    res = model(img)\n",
    "    r = res.item()\n",
    "    dep_scores.append(r)\n",
    "    count+=1\n",
    "    if count%1000==0:\n",
    "        print(count)"
   ]
  },
  {
   "cell_type": "code",
   "execution_count": 8,
   "metadata": {},
   "outputs": [
    {
     "data": {
      "text/plain": [
       "25.756103515625"
      ]
     },
     "execution_count": 8,
     "metadata": {},
     "output_type": "execute_result"
    }
   ],
   "source": [
    "np.max(dep_scores)"
   ]
  },
  {
   "cell_type": "code",
   "execution_count": 9,
   "metadata": {},
   "outputs": [
    {
     "data": {
      "text/plain": [
       "24.30213165283203"
      ]
     },
     "execution_count": 9,
     "metadata": {},
     "output_type": "execute_result"
    }
   ],
   "source": [
    "np.min(dep_scores)"
   ]
  },
  {
   "cell_type": "code",
   "execution_count": 10,
   "metadata": {},
   "outputs": [
    {
     "data": {
      "text/html": [
       "<div>\n",
       "<style scoped>\n",
       "    .dataframe tbody tr th:only-of-type {\n",
       "        vertical-align: middle;\n",
       "    }\n",
       "\n",
       "    .dataframe tbody tr th {\n",
       "        vertical-align: top;\n",
       "    }\n",
       "\n",
       "    .dataframe thead th {\n",
       "        text-align: right;\n",
       "    }\n",
       "</style>\n",
       "<table border=\"1\" class=\"dataframe\">\n",
       "  <thead>\n",
       "    <tr style=\"text-align: right;\">\n",
       "      <th></th>\n",
       "      <th>filename</th>\n",
       "      <th>latitude</th>\n",
       "      <th>longitude</th>\n",
       "      <th>date</th>\n",
       "      <th>depressing_score</th>\n",
       "    </tr>\n",
       "  </thead>\n",
       "  <tbody>\n",
       "    <tr>\n",
       "      <th>0</th>\n",
       "      <td>3372.jpg</td>\n",
       "      <td>41.767587</td>\n",
       "      <td>-72.698546</td>\n",
       "      <td>2018-07</td>\n",
       "      <td>24.833935</td>\n",
       "    </tr>\n",
       "    <tr>\n",
       "      <th>1</th>\n",
       "      <td>10112.jpg</td>\n",
       "      <td>41.772587</td>\n",
       "      <td>-72.645035</td>\n",
       "      <td>2017-07</td>\n",
       "      <td>24.851685</td>\n",
       "    </tr>\n",
       "    <tr>\n",
       "      <th>2</th>\n",
       "      <td>9181.jpg</td>\n",
       "      <td>41.750182</td>\n",
       "      <td>-72.657056</td>\n",
       "      <td>2018-09</td>\n",
       "      <td>24.976952</td>\n",
       "    </tr>\n",
       "    <tr>\n",
       "      <th>3</th>\n",
       "      <td>9380.jpg</td>\n",
       "      <td>41.769742</td>\n",
       "      <td>-72.721771</td>\n",
       "      <td>2018-07</td>\n",
       "      <td>25.100016</td>\n",
       "    </tr>\n",
       "    <tr>\n",
       "      <th>4</th>\n",
       "      <td>4989.jpg</td>\n",
       "      <td>41.782407</td>\n",
       "      <td>-72.688245</td>\n",
       "      <td>2018-10</td>\n",
       "      <td>24.969656</td>\n",
       "    </tr>\n",
       "  </tbody>\n",
       "</table>\n",
       "</div>"
      ],
      "text/plain": [
       "    filename   latitude  longitude     date  depressing_score\n",
       "0   3372.jpg  41.767587 -72.698546  2018-07         24.833935\n",
       "1  10112.jpg  41.772587 -72.645035  2017-07         24.851685\n",
       "2   9181.jpg  41.750182 -72.657056  2018-09         24.976952\n",
       "3   9380.jpg  41.769742 -72.721771  2018-07         25.100016\n",
       "4   4989.jpg  41.782407 -72.688245  2018-10         24.969656"
      ]
     },
     "execution_count": 10,
     "metadata": {},
     "output_type": "execute_result"
    }
   ],
   "source": [
    "del hartforddf['scores']\n",
    "hartforddf['depressing_score']=dep_scores \n",
    "hartforddf.head()"
   ]
  },
  {
   "cell_type": "code",
   "execution_count": 11,
   "metadata": {},
   "outputs": [
    {
     "data": {
      "image/png": "[encoded data removed]",
      "text/plain": [
       "<Figure size 432x288 with 1 Axes>"
      ]
     },
     "metadata": {
      "needs_background": "light"
     },
     "output_type": "display_data"
    }
   ],
   "source": [
    "n, bins, patches = plt.hist(hartforddf['depressing_score'], 50, density=True, facecolor='g', alpha=0.75)\n",
    "\n",
    "\n",
    "plt.xlabel('depressing_score [least-depressing to most-depressing]')\n",
    "# plt.ylabel('Number of datapoints')\n",
    "plt.title('Histogram of hartford depressing scores')\n",
    "plt.grid(True)\n",
    "plt.show()"
   ]
  },
  {
   "cell_type": "code",
   "execution_count": null,
   "metadata": {},
   "outputs": [],
   "source": []
  }
 ],
 "metadata": {
  "kernelspec": {
   "display_name": "Python 3",
   "language": "python",
   "name": "python3"
  },
  "language_info": {
   "codemirror_mode": {
    "name": "ipython",
    "version": 3
   },
   "file_extension": ".py",
   "mimetype": "text/x-python",
   "name": "python",
   "nbconvert_exporter": "python",
   "pygments_lexer": "ipython3",
   "version": "3.5.2"
  }
 },
 "nbformat": 4,
 "nbformat_minor": 2
}
