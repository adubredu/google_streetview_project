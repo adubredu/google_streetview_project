{
 "cells": [
  {
   "cell_type": "code",
   "execution_count": 1,
   "metadata": {
    "colab": {
     "base_uri": "https://localhost:8080/",
     "height": 51
    },
    "colab_type": "code",
    "executionInfo": {
     "elapsed": 2700,
     "status": "ok",
     "timestamp": 1580846213233,
     "user": {
      "displayName": "Alphonsus Adu-Bredu",
      "photoUrl": "https://lh3.googleusercontent.com/a-/AAuE7mCCj6JnvNSfKg4pK67MDw5K5OKX8HNJyYMMRlz8xg=s64",
      "userId": "07447949599962840812"
     },
     "user_tz": 300
    },
    "id": "N7VjCFk-MJw1",
    "outputId": "6f3f0821-34dc-4448-8c1c-8eb0d7c5885d"
   },
   "outputs": [
    {
     "name": "stdout",
     "output_type": "stream",
     "text": [
      "PyTorch Version:  1.0.1\n",
      "Torchvision Version:  0.2.1\n"
     ]
    }
   ],
   "source": [
    "from __future__ import print_function\n",
    "from __future__ import division\n",
    "import torch\n",
    "import torch.nn as nn\n",
    "import torch.optim as optim\n",
    "import numpy as np\n",
    "import torchvision\n",
    "import matplotlib.pyplot as plt\n",
    "import time\n",
    "import os\n",
    "import copy\n",
    "from torchvision import datasets, models, transforms\n",
    "\n",
    "import torch.utils.data as utils\n",
    "import torchvision.transforms as transforms\n",
    "from torch.utils.data import DataLoader,Dataset\n",
    "from torch.autograd import Variable\n",
    "import matplotlib.pyplot as plt\n",
    "import torchvision.utils\n",
    "import numpy as np\n",
    "import time\n",
    "from torch.optim import lr_scheduler\n",
    "from PIL import Image\n",
    "import PIL.ImageOps    \n",
    "import torch.nn.functional as F\n",
    "import pandas as pd \n",
    "\n",
    "print(\"PyTorch Version: \",torch.__version__)\n",
    "print(\"Torchvision Version: \",torchvision.__version__)"
   ]
  },
  {
   "cell_type": "code",
   "execution_count": null,
   "metadata": {
    "colab": {
     "base_uri": "https://localhost:8080/",
     "height": 54
    },
    "colab_type": "code",
    "executionInfo": {
     "elapsed": 394,
     "status": "ok",
     "timestamp": 1580845442773,
     "user": {
      "displayName": "Alphonsus Adu-Bredu",
      "photoUrl": "https://lh3.googleusercontent.com/a-/AAuE7mCCj6JnvNSfKg4pK67MDw5K5OKX8HNJyYMMRlz8xg=s64",
      "userId": "07447949599962840812"
     },
     "user_tz": 300
    },
    "id": "nJPV-keCMR6l",
    "outputId": "319fa963-11b5-48e7-900c-eab92ffff6b9"
   },
   "outputs": [],
   "source": []
  },
  {
   "cell_type": "code",
   "execution_count": null,
   "metadata": {
    "colab": {},
    "colab_type": "code",
    "id": "003v6vTvgbJf"
   },
   "outputs": [],
   "source": []
  },
  {
   "cell_type": "code",
   "execution_count": null,
   "metadata": {
    "colab": {
     "base_uri": "https://localhost:8080/",
     "height": 85
    },
    "colab_type": "code",
    "executionInfo": {
     "elapsed": 2294,
     "status": "ok",
     "timestamp": 1580846217828,
     "user": {
      "displayName": "Alphonsus Adu-Bredu",
      "photoUrl": "https://lh3.googleusercontent.com/a-/AAuE7mCCj6JnvNSfKg4pK67MDw5K5OKX8HNJyYMMRlz8xg=s64",
      "userId": "07447949599962840812"
     },
     "user_tz": 300
    },
    "id": "W5A4vpubhN1m",
    "outputId": "950fb0b0-b882-48e0-846e-e5836b6fc7dc"
   },
   "outputs": [],
   "source": []
  },
  {
   "cell_type": "code",
   "execution_count": null,
   "metadata": {
    "colab": {
     "base_uri": "https://localhost:8080/",
     "height": 34
    },
    "colab_type": "code",
    "executionInfo": {
     "elapsed": 3422,
     "status": "ok",
     "timestamp": 1580846221677,
     "user": {
      "displayName": "Alphonsus Adu-Bredu",
      "photoUrl": "https://lh3.googleusercontent.com/a-/AAuE7mCCj6JnvNSfKg4pK67MDw5K5OKX8HNJyYMMRlz8xg=s64",
      "userId": "07447949599962840812"
     },
     "user_tz": 300
    },
    "id": "vJGk8V3yu2oI",
    "outputId": "30fca8d4-8313-4584-eff6-9ec377810241"
   },
   "outputs": [],
   "source": []
  },
  {
   "cell_type": "code",
   "execution_count": 2,
   "metadata": {
    "colab": {},
    "colab_type": "code",
    "id": "t1f8Tu9TMJxB"
   },
   "outputs": [],
   "source": [
    "class DepressingNet(nn.Module):\n",
    "    def __init__(self, model):\n",
    "        super(DepressingNet, self).__init__()\n",
    "\n",
    "        # Setting up pretrained model\n",
    "        self.model = model\n",
    "\n",
    "        # Defining the fusion layers\n",
    "        self.fusion_layer = nn.Sequential(\n",
    "                                nn.Linear(4,4),\n",
    "                                nn.ReLU(inplace=True),\n",
    "                                nn.Linear(4,4),\n",
    "                                nn.Linear(4,2))\n",
    "\n",
    "\n",
    "\n",
    "    def forward(self, input1, input2):\n",
    "        # forward pass of input 1\n",
    "        output1 = self.model(input1)\n",
    "        # forward pass of input 2\n",
    "        output2 = self.model(input2)\n",
    "        #applying fusion layer\n",
    "        concat = torch.cat((output1, output2),1)\n",
    "#         concat = concat.to('cpu')\n",
    "        res = self.fusion_layer(concat)\n",
    "        return res"
   ]
  },
  {
   "cell_type": "code",
   "execution_count": 3,
   "metadata": {
    "colab": {},
    "colab_type": "code",
    "id": "5j3jRZtNMJxI"
   },
   "outputs": [],
   "source": [
    "def train_model(model, dataloaders, criterion, optimizer, num_epochs=25):\n",
    "    since = time.time()\n",
    "\n",
    "    val_acc_history = []\n",
    "\n",
    "    best_model_wts = copy.deepcopy(model.state_dict())\n",
    "    best_acc = 0.0\n",
    "\n",
    "    for epoch in range(num_epochs):\n",
    "        print('Epoch {}/{}'.format(epoch, num_epochs - 1))\n",
    "        print('-' * 10)\n",
    "\n",
    "        # Each epoch has a training and validation phase\n",
    "        for phase in ['train', 'val']:\n",
    "            if phase == 'train':\n",
    "                model.train()  # Set model to training mode\n",
    "            else:\n",
    "                model.eval()   # Set model to evaluate mode\n",
    "\n",
    "            running_loss = 0.0\n",
    "            running_corrects = 0\n",
    "\n",
    "            # Iterate over data.\n",
    "            for data in dataloaders[phase]:\n",
    "                img0, img1 , label = data\n",
    "                img0, img1 , label = img0.to(device), img1.to(device) , label.to(device)\n",
    "\n",
    "                # zero the parameter gradients\n",
    "                optimizer.zero_grad()\n",
    "\n",
    "                # forward\n",
    "                # track history if only in train\n",
    "                with torch.set_grad_enabled(phase == 'train'):\n",
    "                    res = model(img0, img1)\n",
    "                    res = res.to(device)\n",
    "                    label=label.long()\n",
    "                    label=label.flatten()\n",
    "                    loss = criterion(res, label)\n",
    "                        \n",
    "                    result, preds =torch.max(res, dim=1) \n",
    "\n",
    "                    # backward + optimize only if in training phase\n",
    "                    if phase == 'train':\n",
    "                        loss.backward()\n",
    "                        optimizer.step()\n",
    "\n",
    "                # statistics\n",
    "                running_loss += loss.item() \n",
    "                running_corrects += torch.sum(preds == label.data)\n",
    "\n",
    "            epoch_loss = running_loss / len(dataloaders[phase].dataset)\n",
    "            epoch_acc = running_corrects.double() / len(dataloaders[phase].dataset)\n",
    "\n",
    "            print('{} Loss: {:.4f} Acc: {:.4f}'.format(phase, epoch_loss, epoch_acc))\n",
    "\n",
    "            # deep copy the model\n",
    "            if phase == 'val' and epoch_acc > best_acc:\n",
    "                best_acc = epoch_acc\n",
    "                best_model_wts = copy.deepcopy(model.state_dict())\n",
    "            if phase == 'val':\n",
    "                val_acc_history.append(epoch_acc)\n",
    "\n",
    "    time_elapsed = time.time() - since\n",
    "    print('Training complete in {:.0f}m {:.0f}s'.format(time_elapsed // 60, time_elapsed % 60))\n",
    "    print('Best val Acc: {:4f}'.format(best_acc))\n",
    "\n",
    "    # load best model weights\n",
    "    model.load_state_dict(best_model_wts)\n",
    "    return model, val_acc_history"
   ]
  },
  {
   "cell_type": "code",
   "execution_count": 4,
   "metadata": {
    "colab": {},
    "colab_type": "code",
    "id": "9hVm4A9xMJxP"
   },
   "outputs": [],
   "source": [
    "def set_parameter_requires_grad(model, feature_extracting):\n",
    "    if feature_extracting:\n",
    "        for param in model.parameters():\n",
    "            param.requires_grad = False"
   ]
  },
  {
   "cell_type": "code",
   "execution_count": 5,
   "metadata": {
    "colab": {},
    "colab_type": "code",
    "id": "C7532fm-MJxW"
   },
   "outputs": [],
   "source": [
    "def initialize_model(model_name, num_classes, feature_extract, use_pretrained=True):\n",
    "    # Initialize these variables which will be set in this if statement. Each of these\n",
    "    #   variables is model specific.\n",
    "    model_ft = None\n",
    "    input_size = 0\n",
    "\n",
    "    if model_name == \"resnet\":\n",
    "        \"\"\" Resnet18\n",
    "        \"\"\"\n",
    "        model_ft = models.resnet18(pretrained=use_pretrained)\n",
    "        set_parameter_requires_grad(model_ft, feature_extract)\n",
    "        num_ftrs = model_ft.fc.in_features\n",
    "        model_ft.fc = nn.Linear(num_ftrs, num_classes)\n",
    "        input_size = 224\n",
    "\n",
    "    elif model_name == \"alexnet\":\n",
    "        \"\"\" Alexnet\n",
    "        \"\"\"\n",
    "        model_ft = models.alexnet(pretrained=use_pretrained)\n",
    "        set_parameter_requires_grad(model_ft, feature_extract)\n",
    "        num_ftrs = model_ft.classifier[6].in_features\n",
    "        model_ft.classifier[6] = nn.Linear(num_ftrs,num_classes)\n",
    "        input_size = 224\n",
    "\n",
    "    elif model_name == \"vgg\":\n",
    "        \"\"\" VGG11_bn\n",
    "        \"\"\"\n",
    "        model_ft = models.vgg11_bn(pretrained=use_pretrained)\n",
    "        set_parameter_requires_grad(model_ft, feature_extract)\n",
    "        num_ftrs = model_ft.classifier[6].in_features\n",
    "        model_ft.classifier[6] = nn.Linear(num_ftrs,num_classes)\n",
    "        input_size = 224\n",
    "\n",
    "    elif model_name == \"squeezenet\":\n",
    "        \"\"\" Squeezenet\n",
    "        \"\"\"\n",
    "        model_ft = models.squeezenet1_0(pretrained=use_pretrained)\n",
    "        set_parameter_requires_grad(model_ft, feature_extract)\n",
    "        model_ft.classifier[1] = nn.Conv2d(512, num_classes, kernel_size=(1,1), stride=(1,1))\n",
    "        model_ft.num_classes = num_classes\n",
    "        input_size = 224\n",
    "\n",
    "    elif model_name == \"densenet\":\n",
    "        \"\"\" Densenet\n",
    "        \"\"\"\n",
    "        model_ft = models.densenet121(pretrained=use_pretrained)\n",
    "        set_parameter_requires_grad(model_ft, feature_extract)\n",
    "        num_ftrs = model_ft.classifier.in_features\n",
    "        model_ft.classifier = nn.Linear(num_ftrs, num_classes)\n",
    "        input_size = 224\n",
    "\n",
    "    elif model_name == \"inception\":\n",
    "        \"\"\" Inception v3\n",
    "        Be careful, expects (299,299) sized images and has auxiliary output\n",
    "        \"\"\"\n",
    "        model_ft = models.inception_v3(pretrained=use_pretrained)\n",
    "        set_parameter_requires_grad(model_ft, feature_extract)\n",
    "        # Handle the auxilary net\n",
    "        num_ftrs = model_ft.AuxLogits.fc.in_features\n",
    "        model_ft.AuxLogits.fc = nn.Linear(num_ftrs, num_classes)\n",
    "        # Handle the primary net\n",
    "        num_ftrs = model_ft.fc.in_features\n",
    "        model_ft.fc = nn.Linear(num_ftrs,num_classes)\n",
    "        input_size = 299\n",
    "\n",
    "    else:\n",
    "        print(\"Invalid model name, exiting...\")\n",
    "        exit()\n",
    "\n",
    "    return model_ft, input_size"
   ]
  },
  {
   "cell_type": "code",
   "execution_count": 6,
   "metadata": {
    "colab": {},
    "colab_type": "code",
    "id": "jYLl5dxIMJxd"
   },
   "outputs": [],
   "source": [
    "class SiameseNetworkDataset():\n",
    "    \n",
    "    def __init__(self,training_csv=None,training_dir=None,transform=None):\n",
    "        # used to prepare the labels and images path\n",
    "        self.training_df=pd.read_csv(training_csv)\n",
    "        self.training_df.dropna(inplace=True)\n",
    "#         self.training_df.columns =[\"image1\",\"image2\",\"label\"]\n",
    "        self.training_dir = training_dir    \n",
    "        self.transform = transform\n",
    "\n",
    "    def __getitem__(self,index):\n",
    "        \n",
    "        # getting the image path\n",
    "        image1_path=os.path.join(self.training_dir,str(self.training_df['left_id'].iloc[index])+'.jpg')\n",
    "        image2_path=os.path.join(self.training_dir,str(self.training_df['right_id'].iloc[index])+'.jpg')\n",
    "        \n",
    "        \n",
    "        # Loading the image\n",
    "        img0 = Image.open(image1_path)\n",
    "        img1 = Image.open(image2_path)\n",
    "#         img0 = img0.convert(\"L\")\n",
    "#         img1 = img1.convert(\"L\")\n",
    "        \n",
    "        # Apply image transformations\n",
    "        if self.transform is not None:\n",
    "            img0 = self.transform(img0)\n",
    "            img1 = self.transform(img1)\n",
    "        \n",
    "        return img0, img1 , torch.from_numpy(np.array([int(self.training_df['winner'].iloc[index])],dtype=np.float32))\n",
    "    \n",
    "    def __len__(self):\n",
    "        return len(self.training_df)"
   ]
  },
  {
   "cell_type": "code",
   "execution_count": 7,
   "metadata": {
    "colab": {},
    "colab_type": "code",
    "id": "qc3ibePEMJxm"
   },
   "outputs": [],
   "source": [
    "def imshow(img,text=None,should_save=False):\n",
    "    npimg = img.numpy()\n",
    "    plt.axis(\"off\")\n",
    "    if text:\n",
    "        plt.text(75, 8, text, style='italic',fontweight='bold',\n",
    "            bbox={'facecolor':'white', 'alpha':0.8, 'pad':10})\n",
    "    plt.imshow(np.transpose(npimg, (1, 2, 0)))\n",
    "    plt.show()    \n",
    "\n",
    "def show_plot(iteration,loss):\n",
    "    plt.plot(iteration,loss)\n",
    "    plt.show()\n",
    "\n",
    "class Config():\n",
    "    training_dir = \"/home/bill/urban_planning/images_only/\"\n",
    "    testing_dir =\"/home/bill/urban_planning/images_only/\"\n",
    "    train_batch_size = 32\n",
    "    train_number_epochs = 20\n",
    "\n",
    "training_dir =  \"/home/bill/urban_planning/images_only/\"\n",
    "testing_dir = \"/home/bill/urban_planning/images_only/\"\n",
    "training_dir = \"/home/bill/urban_planning/images_only/\"\n",
    "testing_dir = \"/home/bill/urban_planning/images_only/\"\n",
    "training_csv = \"/home/bill/urban_planning/depressing_train.csv\"\n",
    "testing_csv = \"/home/bill/urban_planning/depressing_test.csv\"\n",
    "home =  \"/home/bill/urban_planning/\""
   ]
  },
  {
   "cell_type": "code",
   "execution_count": 8,
   "metadata": {
    "colab": {},
    "colab_type": "code",
    "id": "WWho0Vs9MJxu"
   },
   "outputs": [],
   "source": [
    "\n",
    "# Models to choose from [resnet, alexnet, vgg, squeezenet, densenet, inception]\n",
    "model_name = \"vgg\"\n",
    "num_classes = 2\n",
    "batch_size = 32\n",
    "num_epochs = 15\n",
    "feature_extract = True\n",
    "model_ft, input_size = initialize_model(model_name, num_classes, feature_extract, use_pretrained=True)"
   ]
  },
  {
   "cell_type": "code",
   "execution_count": 9,
   "metadata": {
    "colab": {},
    "colab_type": "code",
    "id": "zFzV5O15MJx0"
   },
   "outputs": [],
   "source": [
    "siamese_dataset = SiameseNetworkDataset(training_csv,training_dir,\n",
    "                                        transform=transforms.Compose([transforms.Resize((input_size, input_size)),\n",
    "                                        transforms.RandomHorizontalFlip(),\n",
    "                                        transforms.ToTensor(),\n",
    "                                        transforms.Normalize([0.485, 0.456, 0.406], [0.229, 0.224, 0.225])\n",
    "                                                                      ])\n",
    "                                       )\n",
    "\n",
    "test_dataset = SiameseNetworkDataset(training_csv=testing_csv,training_dir=testing_dir,\n",
    "                                        transform=transforms.Compose([transforms.Resize((input_size, input_size)),\n",
    "                                        transforms.CenterCrop(input_size),\n",
    "                                        transforms.ToTensor(),\n",
    "                                        transforms.Normalize([0.485, 0.456, 0.406], [0.229, 0.224, 0.225])\n",
    "                                                                      ])\n",
    "                                       )"
   ]
  },
  {
   "cell_type": "code",
   "execution_count": 10,
   "metadata": {
    "colab": {},
    "colab_type": "code",
    "id": "cDjb0SKGMJx_"
   },
   "outputs": [],
   "source": [
    "train_dataloader = DataLoader(siamese_dataset,\n",
    "                        shuffle=True,\n",
    "                        num_workers=8,\n",
    "                        batch_size=Config.train_batch_size)\n",
    "\n",
    "test_dataloader = DataLoader(test_dataset,\n",
    "                             num_workers=6,\n",
    "                             batch_size=32,\n",
    "                             shuffle=True)\n",
    "\n",
    "dataloaders_dict={'train':train_dataloader, 'val':test_dataloader}\n",
    "device = torch.device(\"cuda:0\" if torch.cuda.is_available() else \"cpu\")"
   ]
  },
  {
   "cell_type": "code",
   "execution_count": 11,
   "metadata": {
    "colab": {
     "base_uri": "https://localhost:8080/",
     "height": 68
    },
    "colab_type": "code",
    "executionInfo": {
     "elapsed": 9926,
     "status": "ok",
     "timestamp": 1580846259206,
     "user": {
      "displayName": "Alphonsus Adu-Bredu",
      "photoUrl": "https://lh3.googleusercontent.com/a-/AAuE7mCCj6JnvNSfKg4pK67MDw5K5OKX8HNJyYMMRlz8xg=s64",
      "userId": "07447949599962840812"
     },
     "user_tz": 300
    },
    "id": "rTyRWOC2MJyI",
    "outputId": "24e80a28-b904-4eee-d39a-6ba94fb473b5"
   },
   "outputs": [
    {
     "name": "stdout",
     "output_type": "stream",
     "text": [
      "Params to learn:\n",
      "\t classifier.6.weight\n",
      "\t classifier.6.bias\n"
     ]
    }
   ],
   "source": [
    "# model_ft = model_ft.to(device)\n",
    "\n",
    "# Gather the parameters to be optimized/updated in this run. If we are\n",
    "#  finetuning we will be updating all parameters. However, if we are\n",
    "#  doing feature extract method, we will only update the parameters\n",
    "#  that we have just initialized, i.e. the parameters with requires_grad\n",
    "#  is True.\n",
    "params_to_update = model_ft.parameters()\n",
    "print(\"Params to learn:\")\n",
    "if feature_extract:\n",
    "    params_to_update = []\n",
    "    for name,param in model_ft.named_parameters():\n",
    "        if param.requires_grad == True:\n",
    "            params_to_update.append(param)\n",
    "            print(\"\\t\",name)\n",
    "else:\n",
    "    for name,param in model_ft.named_parameters():\n",
    "        if param.requires_grad == True:\n",
    "            print(\"\\t\",name)\n",
    "\n",
    "# Observe that all parameters are being optimized\n",
    "optimizer_ft = optim.SGD(params_to_update, lr=0.001, momentum=0.9)\n",
    "model = DepressingNet(model_ft)\n",
    "model = model.to(device)"
   ]
  },
  {
   "cell_type": "code",
   "execution_count": 12,
   "metadata": {
    "colab": {
     "base_uri": "https://localhost:8080/",
     "height": 323
    },
    "colab_type": "code",
    "id": "wwOc571CMJyO",
    "outputId": "340d773c-88b6-4a66-b87a-220fccd52728"
   },
   "outputs": [
    {
     "name": "stdout",
     "output_type": "stream",
     "text": [
      "Epoch 0/14\n",
      "----------\n",
      "train Loss: 0.0218 Acc: 0.5122\n",
      "val Loss: 0.0216 Acc: 0.5288\n",
      "Epoch 1/14\n",
      "----------\n",
      "train Loss: 0.0215 Acc: 0.5506\n",
      "val Loss: 0.0215 Acc: 0.5596\n",
      "Epoch 2/14\n",
      "----------\n",
      "train Loss: 0.0214 Acc: 0.5692\n",
      "val Loss: 0.0214 Acc: 0.5725\n",
      "Epoch 3/14\n",
      "----------\n",
      "train Loss: 0.0213 Acc: 0.5752\n",
      "val Loss: 0.0213 Acc: 0.5784\n",
      "Epoch 4/14\n",
      "----------\n",
      "train Loss: 0.0213 Acc: 0.5773\n",
      "val Loss: 0.0213 Acc: 0.5796\n",
      "Epoch 5/14\n",
      "----------\n",
      "train Loss: 0.0213 Acc: 0.5808\n",
      "val Loss: 0.0213 Acc: 0.5800\n",
      "Epoch 6/14\n",
      "----------\n",
      "train Loss: 0.0213 Acc: 0.5803\n",
      "val Loss: 0.0213 Acc: 0.5804\n",
      "Epoch 7/14\n",
      "----------\n",
      "train Loss: 0.0212 Acc: 0.5819\n",
      "val Loss: 0.0213 Acc: 0.5785\n",
      "Epoch 8/14\n",
      "----------\n",
      "train Loss: 0.0212 Acc: 0.5811\n",
      "val Loss: 0.0213 Acc: 0.5807\n",
      "Epoch 9/14\n",
      "----------\n",
      "train Loss: 0.0212 Acc: 0.5844\n",
      "val Loss: 0.0213 Acc: 0.5806\n",
      "Epoch 10/14\n",
      "----------\n",
      "train Loss: 0.0212 Acc: 0.5827\n",
      "val Loss: 0.0213 Acc: 0.5810\n",
      "Epoch 11/14\n",
      "----------\n",
      "train Loss: 0.0212 Acc: 0.5817\n",
      "val Loss: 0.0212 Acc: 0.5823\n",
      "Epoch 12/14\n",
      "----------\n",
      "train Loss: 0.0212 Acc: 0.5824\n",
      "val Loss: 0.0212 Acc: 0.5807\n",
      "Epoch 13/14\n",
      "----------\n",
      "train Loss: 0.0212 Acc: 0.5844\n",
      "val Loss: 0.0212 Acc: 0.5838\n",
      "Epoch 14/14\n",
      "----------\n",
      "train Loss: 0.0212 Acc: 0.5851\n",
      "val Loss: 0.0212 Acc: 0.5841\n",
      "Training complete in 136m 20s\n",
      "Best val Acc: 0.584087\n"
     ]
    }
   ],
   "source": [
    "criterion = nn.CrossEntropyLoss()\n",
    "# optimizer = optim.RMSprop(net.parameters(), lr=1e-4, alpha=0.99, eps=1e-8, weight_decay=0.0005, momentum=0.9)\n",
    "model, hist = train_model(model, dataloaders_dict, criterion, optimizer_ft, num_epochs=num_epochs)"
   ]
  },
  {
   "cell_type": "code",
   "execution_count": 13,
   "metadata": {
    "colab": {},
    "colab_type": "code",
    "id": "JKDksLiJMJyV"
   },
   "outputs": [
    {
     "name": "stdout",
     "output_type": "stream",
     "text": [
      "Model Saved Successfully\n"
     ]
    }
   ],
   "source": [
    "torch.save(model.state_dict(), \"58_4_model.pt\")\n",
    "print(\"Model Saved Successfully\")"
   ]
  },
  {
   "cell_type": "code",
   "execution_count": 14,
   "metadata": {},
   "outputs": [
    {
     "data": {
      "image/png": "[encoded data removed]",
      "text/plain": [
       "<Figure size 432x288 with 1 Axes>"
      ]
     },
     "metadata": {
      "needs_background": "light"
     },
     "output_type": "display_data"
    }
   ],
   "source": [
    "x=np.linspace(1,15,15)\n",
    "y=[]\n",
    "for num in hist:\n",
    "    y.append(num.data.tolist())\n",
    "import matplotlib.pyplot as plt\n",
    "plt.plot(x,y)\n",
    "plt.savefig('58_4_training_plot.png')"
   ]
  },
  {
   "cell_type": "code",
   "execution_count": null,
   "metadata": {},
   "outputs": [],
   "source": []
  }
 ],
 "metadata": {
  "accelerator": "GPU",
  "colab": {
   "name": "train_depressing_net.ipynb",
   "provenance": []
  },
  "kernelspec": {
   "display_name": "Python 3",
   "language": "python",
   "name": "python3"
  },
  "language_info": {
   "codemirror_mode": {
    "name": "ipython",
    "version": 3
   },
   "file_extension": ".py",
   "mimetype": "text/x-python",
   "name": "python",
   "nbconvert_exporter": "python",
   "pygments_lexer": "ipython3",
   "version": "3.5.2"
  }
 },
 "nbformat": 4,
 "nbformat_minor": 1
}
