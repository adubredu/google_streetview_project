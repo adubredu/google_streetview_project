{
 "cells": [
  {
   "cell_type": "code",
   "execution_count": 33,
   "metadata": {},
   "outputs": [],
   "source": [
    "import pandas as pd "
   ]
  },
  {
   "cell_type": "code",
   "execution_count": 2,
   "metadata": {},
   "outputs": [],
   "source": [
    "data = pd.read_csv('depressing.csv')"
   ]
  },
  {
   "cell_type": "code",
   "execution_count": 19,
   "metadata": {},
   "outputs": [],
   "source": [
    "todel = open('notavailable.txt', 'r') "
   ]
  },
  {
   "cell_type": "code",
   "execution_count": 20,
   "metadata": {},
   "outputs": [],
   "source": [
    "delarr= (todel.read())"
   ]
  },
  {
   "cell_type": "code",
   "execution_count": 22,
   "metadata": {},
   "outputs": [],
   "source": [
    "delarr = delarr.split('\\n') "
   ]
  },
  {
   "cell_type": "code",
   "execution_count": 25,
   "metadata": {},
   "outputs": [
    {
     "data": {
      "text/plain": [
       "(132467, 9)"
      ]
     },
     "execution_count": 25,
     "metadata": {},
     "output_type": "execute_result"
    }
   ],
   "source": [
    "data.shape"
   ]
  },
  {
   "cell_type": "code",
   "execution_count": 27,
   "metadata": {},
   "outputs": [],
   "source": [
    "for forbidden in delarr:\n",
    "    data.drop(data.loc[data['left_id']==forbidden].index, inplace=True)\n",
    "    data.drop(data.loc[data['right_id']==forbidden].index, inplace=True)"
   ]
  },
  {
   "cell_type": "code",
   "execution_count": 24,
   "metadata": {},
   "outputs": [
    {
     "data": {
      "text/html": [
       "<div>\n",
       "<style scoped>\n",
       "    .dataframe tbody tr th:only-of-type {\n",
       "        vertical-align: middle;\n",
       "    }\n",
       "\n",
       "    .dataframe tbody tr th {\n",
       "        vertical-align: top;\n",
       "    }\n",
       "\n",
       "    .dataframe thead th {\n",
       "        text-align: right;\n",
       "    }\n",
       "</style>\n",
       "<table border=\"1\" class=\"dataframe\">\n",
       "  <thead>\n",
       "    <tr style=\"text-align: right;\">\n",
       "      <th></th>\n",
       "      <th>Unnamed: 0</th>\n",
       "      <th>left_id</th>\n",
       "      <th>right_id</th>\n",
       "      <th>winner</th>\n",
       "      <th>left_lat</th>\n",
       "      <th>left_long</th>\n",
       "      <th>right_lat</th>\n",
       "      <th>right_long</th>\n",
       "      <th>category</th>\n",
       "    </tr>\n",
       "  </thead>\n",
       "  <tbody>\n",
       "    <tr>\n",
       "      <th>0</th>\n",
       "      <td>1</td>\n",
       "      <td>513d7e23fdc9f0358700733a</td>\n",
       "      <td>513d7ac3fdc9f0358700693f</td>\n",
       "      <td>equal</td>\n",
       "      <td>40.744156</td>\n",
       "      <td>-73.935579</td>\n",
       "      <td>-33.526384</td>\n",
       "      <td>-70.591309</td>\n",
       "      <td>depressing</td>\n",
       "    </tr>\n",
       "    <tr>\n",
       "      <th>1</th>\n",
       "      <td>2</td>\n",
       "      <td>50f60c4dbeb2fed91000028d</td>\n",
       "      <td>513cb652fdc9f03587000a1e</td>\n",
       "      <td>right</td>\n",
       "      <td>45.505837</td>\n",
       "      <td>-122.583705</td>\n",
       "      <td>29.752872</td>\n",
       "      <td>-95.298844</td>\n",
       "      <td>depressing</td>\n",
       "    </tr>\n",
       "    <tr>\n",
       "      <th>2</th>\n",
       "      <td>3</td>\n",
       "      <td>513d9ff9fdc9f0358700887c</td>\n",
       "      <td>513cd544fdc9f03587001efc</td>\n",
       "      <td>left</td>\n",
       "      <td>33.747093</td>\n",
       "      <td>-84.289843</td>\n",
       "      <td>-33.930831</td>\n",
       "      <td>18.406321</td>\n",
       "      <td>depressing</td>\n",
       "    </tr>\n",
       "    <tr>\n",
       "      <th>3</th>\n",
       "      <td>12</td>\n",
       "      <td>5185cf07fdc9f03fd5000ebd</td>\n",
       "      <td>51422806fdc9f04926008700</td>\n",
       "      <td>equal</td>\n",
       "      <td>45.562421</td>\n",
       "      <td>-73.539947</td>\n",
       "      <td>40.066826</td>\n",
       "      <td>-75.183961</td>\n",
       "      <td>depressing</td>\n",
       "    </tr>\n",
       "    <tr>\n",
       "      <th>4</th>\n",
       "      <td>13</td>\n",
       "      <td>50f5e6fefdc9f065f0006eb2</td>\n",
       "      <td>513d6d7efdc9f0358700516c</td>\n",
       "      <td>equal</td>\n",
       "      <td>-23.631807</td>\n",
       "      <td>-46.714255</td>\n",
       "      <td>39.754777</td>\n",
       "      <td>-104.871981</td>\n",
       "      <td>depressing</td>\n",
       "    </tr>\n",
       "  </tbody>\n",
       "</table>\n",
       "</div>"
      ],
      "text/plain": [
       "   Unnamed: 0                   left_id                  right_id winner  \\\n",
       "0           1  513d7e23fdc9f0358700733a  513d7ac3fdc9f0358700693f  equal   \n",
       "1           2  50f60c4dbeb2fed91000028d  513cb652fdc9f03587000a1e  right   \n",
       "2           3  513d9ff9fdc9f0358700887c  513cd544fdc9f03587001efc   left   \n",
       "3          12  5185cf07fdc9f03fd5000ebd  51422806fdc9f04926008700  equal   \n",
       "4          13  50f5e6fefdc9f065f0006eb2  513d6d7efdc9f0358700516c  equal   \n",
       "\n",
       "    left_lat   left_long  right_lat  right_long    category  \n",
       "0  40.744156  -73.935579 -33.526384  -70.591309  depressing  \n",
       "1  45.505837 -122.583705  29.752872  -95.298844  depressing  \n",
       "2  33.747093  -84.289843 -33.930831   18.406321  depressing  \n",
       "3  45.562421  -73.539947  40.066826  -75.183961  depressing  \n",
       "4 -23.631807  -46.714255  39.754777 -104.871981  depressing  "
      ]
     },
     "execution_count": 24,
     "metadata": {},
     "output_type": "execute_result"
    }
   ],
   "source": [
    "data.head()"
   ]
  },
  {
   "cell_type": "code",
   "execution_count": 31,
   "metadata": {},
   "outputs": [
    {
     "data": {
      "text/plain": [
       "(64106, 9)"
      ]
     },
     "execution_count": 31,
     "metadata": {},
     "output_type": "execute_result"
    }
   ],
   "source": [
    "data.shape"
   ]
  },
  {
   "cell_type": "code",
   "execution_count": 30,
   "metadata": {},
   "outputs": [],
   "source": [
    "data.drop(data.loc[data['winner']=='equal'].index, inplace=True)"
   ]
  },
  {
   "cell_type": "code",
   "execution_count": 32,
   "metadata": {},
   "outputs": [],
   "source": [
    "data.to_csv('depressing_data.csv', index=False)"
   ]
  },
  {
   "cell_type": "code",
   "execution_count": 39,
   "metadata": {},
   "outputs": [
    {
     "data": {
      "text/plain": [
       "str"
      ]
     },
     "execution_count": 39,
     "metadata": {},
     "output_type": "execute_result"
    }
   ],
   "source": [
    "type(data['left_id'].iloc[5])"
   ]
  },
  {
   "cell_type": "code",
   "execution_count": 40,
   "metadata": {},
   "outputs": [
    {
     "data": {
      "text/plain": [
       "64106"
      ]
     },
     "execution_count": 40,
     "metadata": {},
     "output_type": "execute_result"
    }
   ],
   "source": [
    "len(data['winner'])"
   ]
  },
  {
   "cell_type": "code",
   "execution_count": 46,
   "metadata": {},
   "outputs": [
    {
     "data": {
      "text/plain": [
       "Index(['Unnamed: 0', 'left_id', 'right_id', 'winner', 'left_lat', 'left_long',\n",
       "       'right_lat', 'right_long', 'category'],\n",
       "      dtype='object')"
      ]
     },
     "execution_count": 46,
     "metadata": {},
     "output_type": "execute_result"
    }
   ],
   "source": [
    "data.columns"
   ]
  },
  {
   "cell_type": "code",
   "execution_count": 44,
   "metadata": {},
   "outputs": [
    {
     "name": "stderr",
     "output_type": "stream",
     "text": [
      "/home/alphonsus/miniconda3/envs/torch/lib/python3.7/site-packages/pandas/core/indexing.py:205: SettingWithCopyWarning: \n",
      "A value is trying to be set on a copy of a slice from a DataFrame\n",
      "\n",
      "See the caveats in the documentation: http://pandas.pydata.org/pandas-docs/stable/user_guide/indexing.html#returning-a-view-versus-a-copy\n",
      "  self._setitem_with_indexer(indexer, value)\n"
     ]
    }
   ],
   "source": [
    "for i in range(len(data['winner'])):\n",
    "    if data['winner'].iloc[i] == 'left':\n",
    "        data['winner'].iloc[i] = '0'\n",
    "    else:\n",
    "        data['winner'].iloc[i]  = '1'"
   ]
  },
  {
   "cell_type": "code",
   "execution_count": 45,
   "metadata": {},
   "outputs": [
    {
     "data": {
      "text/html": [
       "<div>\n",
       "<style scoped>\n",
       "    .dataframe tbody tr th:only-of-type {\n",
       "        vertical-align: middle;\n",
       "    }\n",
       "\n",
       "    .dataframe tbody tr th {\n",
       "        vertical-align: top;\n",
       "    }\n",
       "\n",
       "    .dataframe thead th {\n",
       "        text-align: right;\n",
       "    }\n",
       "</style>\n",
       "<table border=\"1\" class=\"dataframe\">\n",
       "  <thead>\n",
       "    <tr style=\"text-align: right;\">\n",
       "      <th></th>\n",
       "      <th>Unnamed: 0</th>\n",
       "      <th>left_id</th>\n",
       "      <th>right_id</th>\n",
       "      <th>winner</th>\n",
       "      <th>left_lat</th>\n",
       "      <th>left_long</th>\n",
       "      <th>right_lat</th>\n",
       "      <th>right_long</th>\n",
       "      <th>category</th>\n",
       "    </tr>\n",
       "  </thead>\n",
       "  <tbody>\n",
       "    <tr>\n",
       "      <th>1</th>\n",
       "      <td>2.0</td>\n",
       "      <td>50f60c4dbeb2fed91000028d</td>\n",
       "      <td>513cb652fdc9f03587000a1e</td>\n",
       "      <td>1</td>\n",
       "      <td>45.505837</td>\n",
       "      <td>-122.583705</td>\n",
       "      <td>29.752872</td>\n",
       "      <td>-95.298844</td>\n",
       "      <td>depressing</td>\n",
       "    </tr>\n",
       "    <tr>\n",
       "      <th>7</th>\n",
       "      <td>16.0</td>\n",
       "      <td>51421b25fdc9f0492600840a</td>\n",
       "      <td>51414717fdc9f04926006993</td>\n",
       "      <td>0</td>\n",
       "      <td>48.099167</td>\n",
       "      <td>11.634823</td>\n",
       "      <td>-37.898205</td>\n",
       "      <td>145.116309</td>\n",
       "      <td>depressing</td>\n",
       "    </tr>\n",
       "    <tr>\n",
       "      <th>11</th>\n",
       "      <td>42.0</td>\n",
       "      <td>50f4351efdc9f065f0002b70</td>\n",
       "      <td>513d9d82fdc9f035870080cb</td>\n",
       "      <td>0</td>\n",
       "      <td>43.718643</td>\n",
       "      <td>-79.288744</td>\n",
       "      <td>-33.456354</td>\n",
       "      <td>-70.748903</td>\n",
       "      <td>depressing</td>\n",
       "    </tr>\n",
       "    <tr>\n",
       "      <th>13</th>\n",
       "      <td>44.0</td>\n",
       "      <td>513e5f6dfdc9f0358700b238</td>\n",
       "      <td>5140d7e5fdc9f049260038de</td>\n",
       "      <td>0</td>\n",
       "      <td>48.832606</td>\n",
       "      <td>2.383968</td>\n",
       "      <td>53.282692</td>\n",
       "      <td>-6.224454</td>\n",
       "      <td>depressing</td>\n",
       "    </tr>\n",
       "    <tr>\n",
       "      <th>18</th>\n",
       "      <td>49.0</td>\n",
       "      <td>513e6113fdc9f0358700b4c9</td>\n",
       "      <td>50f4349afdc9f065f0002a39</td>\n",
       "      <td>0</td>\n",
       "      <td>48.788970</td>\n",
       "      <td>2.345116</td>\n",
       "      <td>43.721041</td>\n",
       "      <td>-79.647358</td>\n",
       "      <td>depressing</td>\n",
       "    </tr>\n",
       "  </tbody>\n",
       "</table>\n",
       "</div>"
      ],
      "text/plain": [
       "    Unnamed: 0                   left_id                  right_id winner  \\\n",
       "1          2.0  50f60c4dbeb2fed91000028d  513cb652fdc9f03587000a1e      1   \n",
       "7         16.0  51421b25fdc9f0492600840a  51414717fdc9f04926006993      0   \n",
       "11        42.0  50f4351efdc9f065f0002b70  513d9d82fdc9f035870080cb      0   \n",
       "13        44.0  513e5f6dfdc9f0358700b238  5140d7e5fdc9f049260038de      0   \n",
       "18        49.0  513e6113fdc9f0358700b4c9  50f4349afdc9f065f0002a39      0   \n",
       "\n",
       "     left_lat   left_long  right_lat  right_long    category  \n",
       "1   45.505837 -122.583705  29.752872  -95.298844  depressing  \n",
       "7   48.099167   11.634823 -37.898205  145.116309  depressing  \n",
       "11  43.718643  -79.288744 -33.456354  -70.748903  depressing  \n",
       "13  48.832606    2.383968  53.282692   -6.224454  depressing  \n",
       "18  48.788970    2.345116  43.721041  -79.647358  depressing  "
      ]
     },
     "execution_count": 45,
     "metadata": {},
     "output_type": "execute_result"
    }
   ],
   "source": [
    "data.head()"
   ]
  },
  {
   "cell_type": "code",
   "execution_count": 49,
   "metadata": {},
   "outputs": [],
   "source": [
    "data=data.drop(data.columns[0], axis=1)"
   ]
  },
  {
   "cell_type": "code",
   "execution_count": 50,
   "metadata": {},
   "outputs": [
    {
     "data": {
      "text/html": [
       "<div>\n",
       "<style scoped>\n",
       "    .dataframe tbody tr th:only-of-type {\n",
       "        vertical-align: middle;\n",
       "    }\n",
       "\n",
       "    .dataframe tbody tr th {\n",
       "        vertical-align: top;\n",
       "    }\n",
       "\n",
       "    .dataframe thead th {\n",
       "        text-align: right;\n",
       "    }\n",
       "</style>\n",
       "<table border=\"1\" class=\"dataframe\">\n",
       "  <thead>\n",
       "    <tr style=\"text-align: right;\">\n",
       "      <th></th>\n",
       "      <th>left_id</th>\n",
       "      <th>right_id</th>\n",
       "      <th>winner</th>\n",
       "      <th>left_lat</th>\n",
       "      <th>left_long</th>\n",
       "      <th>right_lat</th>\n",
       "      <th>right_long</th>\n",
       "      <th>category</th>\n",
       "    </tr>\n",
       "  </thead>\n",
       "  <tbody>\n",
       "    <tr>\n",
       "      <th>1</th>\n",
       "      <td>50f60c4dbeb2fed91000028d</td>\n",
       "      <td>513cb652fdc9f03587000a1e</td>\n",
       "      <td>1</td>\n",
       "      <td>45.505837</td>\n",
       "      <td>-122.583705</td>\n",
       "      <td>29.752872</td>\n",
       "      <td>-95.298844</td>\n",
       "      <td>depressing</td>\n",
       "    </tr>\n",
       "    <tr>\n",
       "      <th>7</th>\n",
       "      <td>51421b25fdc9f0492600840a</td>\n",
       "      <td>51414717fdc9f04926006993</td>\n",
       "      <td>0</td>\n",
       "      <td>48.099167</td>\n",
       "      <td>11.634823</td>\n",
       "      <td>-37.898205</td>\n",
       "      <td>145.116309</td>\n",
       "      <td>depressing</td>\n",
       "    </tr>\n",
       "    <tr>\n",
       "      <th>11</th>\n",
       "      <td>50f4351efdc9f065f0002b70</td>\n",
       "      <td>513d9d82fdc9f035870080cb</td>\n",
       "      <td>0</td>\n",
       "      <td>43.718643</td>\n",
       "      <td>-79.288744</td>\n",
       "      <td>-33.456354</td>\n",
       "      <td>-70.748903</td>\n",
       "      <td>depressing</td>\n",
       "    </tr>\n",
       "    <tr>\n",
       "      <th>13</th>\n",
       "      <td>513e5f6dfdc9f0358700b238</td>\n",
       "      <td>5140d7e5fdc9f049260038de</td>\n",
       "      <td>0</td>\n",
       "      <td>48.832606</td>\n",
       "      <td>2.383968</td>\n",
       "      <td>53.282692</td>\n",
       "      <td>-6.224454</td>\n",
       "      <td>depressing</td>\n",
       "    </tr>\n",
       "    <tr>\n",
       "      <th>18</th>\n",
       "      <td>513e6113fdc9f0358700b4c9</td>\n",
       "      <td>50f4349afdc9f065f0002a39</td>\n",
       "      <td>0</td>\n",
       "      <td>48.788970</td>\n",
       "      <td>2.345116</td>\n",
       "      <td>43.721041</td>\n",
       "      <td>-79.647358</td>\n",
       "      <td>depressing</td>\n",
       "    </tr>\n",
       "  </tbody>\n",
       "</table>\n",
       "</div>"
      ],
      "text/plain": [
       "                     left_id                  right_id winner   left_lat  \\\n",
       "1   50f60c4dbeb2fed91000028d  513cb652fdc9f03587000a1e      1  45.505837   \n",
       "7   51421b25fdc9f0492600840a  51414717fdc9f04926006993      0  48.099167   \n",
       "11  50f4351efdc9f065f0002b70  513d9d82fdc9f035870080cb      0  43.718643   \n",
       "13  513e5f6dfdc9f0358700b238  5140d7e5fdc9f049260038de      0  48.832606   \n",
       "18  513e6113fdc9f0358700b4c9  50f4349afdc9f065f0002a39      0  48.788970   \n",
       "\n",
       "     left_long  right_lat  right_long    category  \n",
       "1  -122.583705  29.752872  -95.298844  depressing  \n",
       "7    11.634823 -37.898205  145.116309  depressing  \n",
       "11  -79.288744 -33.456354  -70.748903  depressing  \n",
       "13    2.383968  53.282692   -6.224454  depressing  \n",
       "18    2.345116  43.721041  -79.647358  depressing  "
      ]
     },
     "execution_count": 50,
     "metadata": {},
     "output_type": "execute_result"
    }
   ],
   "source": [
    "data.head()"
   ]
  },
  {
   "cell_type": "code",
   "execution_count": 52,
   "metadata": {},
   "outputs": [
    {
     "data": {
      "text/plain": [
       "64107"
      ]
     },
     "execution_count": 52,
     "metadata": {},
     "output_type": "execute_result"
    }
   ],
   "source": [
    "len(data)"
   ]
  },
  {
   "cell_type": "code",
   "execution_count": 1,
   "metadata": {},
   "outputs": [
    {
     "data": {
      "text/plain": [
       "(64107, 8)"
      ]
     },
     "execution_count": 1,
     "metadata": {},
     "output_type": "execute_result"
    }
   ],
   "source": [
    "import pandas as pd \n",
    "data = pd.read_csv('depressing_data.csv')\n",
    "data.shape"
   ]
  },
  {
   "cell_type": "code",
   "execution_count": 2,
   "metadata": {},
   "outputs": [],
   "source": [
    "N = len(data)\n",
    "train_num = 51286  #80%\n",
    "test_num = N - 51286\n",
    "traindf = data.iloc[ :51286,:]\n",
    "testdf = data.iloc[51286:,:]\n",
    "\n"
   ]
  },
  {
   "cell_type": "code",
   "execution_count": 3,
   "metadata": {},
   "outputs": [
    {
     "name": "stdout",
     "output_type": "stream",
     "text": [
      "(51286, 8)\n",
      "(12821, 8)\n"
     ]
    }
   ],
   "source": [
    "print(traindf.shape)\n",
    "print(testdf.shape)"
   ]
  },
  {
   "cell_type": "code",
   "execution_count": 4,
   "metadata": {},
   "outputs": [],
   "source": [
    "traindf.to_csv('depressing_train.csv', index=False)\n",
    "testdf.to_csv('depressing_test.csv', index=False)"
   ]
  },
  {
   "cell_type": "code",
   "execution_count": null,
   "metadata": {},
   "outputs": [],
   "source": []
  }
 ],
 "metadata": {
  "kernelspec": {
   "display_name": "Python 3",
   "language": "python",
   "name": "python3"
  },
  "language_info": {
   "codemirror_mode": {
    "name": "ipython",
    "version": 3
   },
   "file_extension": ".py",
   "mimetype": "text/x-python",
   "name": "python",
   "nbconvert_exporter": "python",
   "pygments_lexer": "ipython3",
   "version": "3.7.5"
  }
 },
 "nbformat": 4,
 "nbformat_minor": 2
}
