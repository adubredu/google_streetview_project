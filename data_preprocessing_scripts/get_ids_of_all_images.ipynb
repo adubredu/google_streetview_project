{
 "cells": [
  {
   "cell_type": "code",
   "execution_count": 1,
   "metadata": {},
   "outputs": [],
   "source": [
    "import pandas as pd "
   ]
  },
  {
   "cell_type": "code",
   "execution_count": 2,
   "metadata": {},
   "outputs": [],
   "source": [
    "data = pd.read_csv('depressing.csv')"
   ]
  },
  {
   "cell_type": "code",
   "execution_count": 3,
   "metadata": {},
   "outputs": [
    {
     "data": {
      "text/plain": [
       "(132467, 9)"
      ]
     },
     "execution_count": 3,
     "metadata": {},
     "output_type": "execute_result"
    }
   ],
   "source": [
    "data.shape"
   ]
  },
  {
   "cell_type": "code",
   "execution_count": 4,
   "metadata": {},
   "outputs": [
    {
     "data": {
      "text/html": [
       "<div>\n",
       "<style scoped>\n",
       "    .dataframe tbody tr th:only-of-type {\n",
       "        vertical-align: middle;\n",
       "    }\n",
       "\n",
       "    .dataframe tbody tr th {\n",
       "        vertical-align: top;\n",
       "    }\n",
       "\n",
       "    .dataframe thead th {\n",
       "        text-align: right;\n",
       "    }\n",
       "</style>\n",
       "<table border=\"1\" class=\"dataframe\">\n",
       "  <thead>\n",
       "    <tr style=\"text-align: right;\">\n",
       "      <th></th>\n",
       "      <th>Unnamed: 0</th>\n",
       "      <th>left_id</th>\n",
       "      <th>right_id</th>\n",
       "      <th>winner</th>\n",
       "      <th>left_lat</th>\n",
       "      <th>left_long</th>\n",
       "      <th>right_lat</th>\n",
       "      <th>right_long</th>\n",
       "      <th>category</th>\n",
       "    </tr>\n",
       "  </thead>\n",
       "  <tbody>\n",
       "    <tr>\n",
       "      <th>0</th>\n",
       "      <td>1</td>\n",
       "      <td>513d7e23fdc9f0358700733a</td>\n",
       "      <td>513d7ac3fdc9f0358700693f</td>\n",
       "      <td>equal</td>\n",
       "      <td>40.744156</td>\n",
       "      <td>-73.935579</td>\n",
       "      <td>-33.526384</td>\n",
       "      <td>-70.591309</td>\n",
       "      <td>depressing</td>\n",
       "    </tr>\n",
       "    <tr>\n",
       "      <th>1</th>\n",
       "      <td>2</td>\n",
       "      <td>50f60c4dbeb2fed91000028d</td>\n",
       "      <td>513cb652fdc9f03587000a1e</td>\n",
       "      <td>right</td>\n",
       "      <td>45.505837</td>\n",
       "      <td>-122.583705</td>\n",
       "      <td>29.752872</td>\n",
       "      <td>-95.298844</td>\n",
       "      <td>depressing</td>\n",
       "    </tr>\n",
       "    <tr>\n",
       "      <th>2</th>\n",
       "      <td>3</td>\n",
       "      <td>513d9ff9fdc9f0358700887c</td>\n",
       "      <td>513cd544fdc9f03587001efc</td>\n",
       "      <td>left</td>\n",
       "      <td>33.747093</td>\n",
       "      <td>-84.289843</td>\n",
       "      <td>-33.930831</td>\n",
       "      <td>18.406321</td>\n",
       "      <td>depressing</td>\n",
       "    </tr>\n",
       "    <tr>\n",
       "      <th>3</th>\n",
       "      <td>12</td>\n",
       "      <td>5185cf07fdc9f03fd5000ebd</td>\n",
       "      <td>51422806fdc9f04926008700</td>\n",
       "      <td>equal</td>\n",
       "      <td>45.562421</td>\n",
       "      <td>-73.539947</td>\n",
       "      <td>40.066826</td>\n",
       "      <td>-75.183961</td>\n",
       "      <td>depressing</td>\n",
       "    </tr>\n",
       "    <tr>\n",
       "      <th>4</th>\n",
       "      <td>13</td>\n",
       "      <td>50f5e6fefdc9f065f0006eb2</td>\n",
       "      <td>513d6d7efdc9f0358700516c</td>\n",
       "      <td>equal</td>\n",
       "      <td>-23.631807</td>\n",
       "      <td>-46.714255</td>\n",
       "      <td>39.754777</td>\n",
       "      <td>-104.871981</td>\n",
       "      <td>depressing</td>\n",
       "    </tr>\n",
       "  </tbody>\n",
       "</table>\n",
       "</div>"
      ],
      "text/plain": [
       "   Unnamed: 0                   left_id                  right_id winner  \\\n",
       "0           1  513d7e23fdc9f0358700733a  513d7ac3fdc9f0358700693f  equal   \n",
       "1           2  50f60c4dbeb2fed91000028d  513cb652fdc9f03587000a1e  right   \n",
       "2           3  513d9ff9fdc9f0358700887c  513cd544fdc9f03587001efc   left   \n",
       "3          12  5185cf07fdc9f03fd5000ebd  51422806fdc9f04926008700  equal   \n",
       "4          13  50f5e6fefdc9f065f0006eb2  513d6d7efdc9f0358700516c  equal   \n",
       "\n",
       "    left_lat   left_long  right_lat  right_long    category  \n",
       "0  40.744156  -73.935579 -33.526384  -70.591309  depressing  \n",
       "1  45.505837 -122.583705  29.752872  -95.298844  depressing  \n",
       "2  33.747093  -84.289843 -33.930831   18.406321  depressing  \n",
       "3  45.562421  -73.539947  40.066826  -75.183961  depressing  \n",
       "4 -23.631807  -46.714255  39.754777 -104.871981  depressing  "
      ]
     },
     "execution_count": 4,
     "metadata": {},
     "output_type": "execute_result"
    }
   ],
   "source": [
    "data.head()"
   ]
  },
  {
   "cell_type": "code",
   "execution_count": 5,
   "metadata": {},
   "outputs": [
    {
     "name": "stdout",
     "output_type": "stream",
     "text": [
      "Unnamed: 0\n",
      "left_id\n",
      "right_id\n",
      "winner\n",
      "left_lat\n",
      "left_long\n",
      "right_lat\n",
      "right_long\n",
      "category\n"
     ]
    }
   ],
   "source": [
    "for col in data.columns:\n",
    "    print(col)"
   ]
  },
  {
   "cell_type": "code",
   "execution_count": 7,
   "metadata": {},
   "outputs": [],
   "source": [
    "data=data.drop('Unnamed: 0', axis='columns')"
   ]
  },
  {
   "cell_type": "code",
   "execution_count": 8,
   "metadata": {},
   "outputs": [
    {
     "data": {
      "text/html": [
       "<div>\n",
       "<style scoped>\n",
       "    .dataframe tbody tr th:only-of-type {\n",
       "        vertical-align: middle;\n",
       "    }\n",
       "\n",
       "    .dataframe tbody tr th {\n",
       "        vertical-align: top;\n",
       "    }\n",
       "\n",
       "    .dataframe thead th {\n",
       "        text-align: right;\n",
       "    }\n",
       "</style>\n",
       "<table border=\"1\" class=\"dataframe\">\n",
       "  <thead>\n",
       "    <tr style=\"text-align: right;\">\n",
       "      <th></th>\n",
       "      <th>left_id</th>\n",
       "      <th>right_id</th>\n",
       "      <th>winner</th>\n",
       "      <th>left_lat</th>\n",
       "      <th>left_long</th>\n",
       "      <th>right_lat</th>\n",
       "      <th>right_long</th>\n",
       "      <th>category</th>\n",
       "    </tr>\n",
       "  </thead>\n",
       "  <tbody>\n",
       "    <tr>\n",
       "      <th>0</th>\n",
       "      <td>513d7e23fdc9f0358700733a</td>\n",
       "      <td>513d7ac3fdc9f0358700693f</td>\n",
       "      <td>equal</td>\n",
       "      <td>40.744156</td>\n",
       "      <td>-73.935579</td>\n",
       "      <td>-33.526384</td>\n",
       "      <td>-70.591309</td>\n",
       "      <td>depressing</td>\n",
       "    </tr>\n",
       "    <tr>\n",
       "      <th>1</th>\n",
       "      <td>50f60c4dbeb2fed91000028d</td>\n",
       "      <td>513cb652fdc9f03587000a1e</td>\n",
       "      <td>right</td>\n",
       "      <td>45.505837</td>\n",
       "      <td>-122.583705</td>\n",
       "      <td>29.752872</td>\n",
       "      <td>-95.298844</td>\n",
       "      <td>depressing</td>\n",
       "    </tr>\n",
       "    <tr>\n",
       "      <th>2</th>\n",
       "      <td>513d9ff9fdc9f0358700887c</td>\n",
       "      <td>513cd544fdc9f03587001efc</td>\n",
       "      <td>left</td>\n",
       "      <td>33.747093</td>\n",
       "      <td>-84.289843</td>\n",
       "      <td>-33.930831</td>\n",
       "      <td>18.406321</td>\n",
       "      <td>depressing</td>\n",
       "    </tr>\n",
       "    <tr>\n",
       "      <th>3</th>\n",
       "      <td>5185cf07fdc9f03fd5000ebd</td>\n",
       "      <td>51422806fdc9f04926008700</td>\n",
       "      <td>equal</td>\n",
       "      <td>45.562421</td>\n",
       "      <td>-73.539947</td>\n",
       "      <td>40.066826</td>\n",
       "      <td>-75.183961</td>\n",
       "      <td>depressing</td>\n",
       "    </tr>\n",
       "    <tr>\n",
       "      <th>4</th>\n",
       "      <td>50f5e6fefdc9f065f0006eb2</td>\n",
       "      <td>513d6d7efdc9f0358700516c</td>\n",
       "      <td>equal</td>\n",
       "      <td>-23.631807</td>\n",
       "      <td>-46.714255</td>\n",
       "      <td>39.754777</td>\n",
       "      <td>-104.871981</td>\n",
       "      <td>depressing</td>\n",
       "    </tr>\n",
       "  </tbody>\n",
       "</table>\n",
       "</div>"
      ],
      "text/plain": [
       "                    left_id                  right_id winner   left_lat  \\\n",
       "0  513d7e23fdc9f0358700733a  513d7ac3fdc9f0358700693f  equal  40.744156   \n",
       "1  50f60c4dbeb2fed91000028d  513cb652fdc9f03587000a1e  right  45.505837   \n",
       "2  513d9ff9fdc9f0358700887c  513cd544fdc9f03587001efc   left  33.747093   \n",
       "3  5185cf07fdc9f03fd5000ebd  51422806fdc9f04926008700  equal  45.562421   \n",
       "4  50f5e6fefdc9f065f0006eb2  513d6d7efdc9f0358700516c  equal -23.631807   \n",
       "\n",
       "    left_long  right_lat  right_long    category  \n",
       "0  -73.935579 -33.526384  -70.591309  depressing  \n",
       "1 -122.583705  29.752872  -95.298844  depressing  \n",
       "2  -84.289843 -33.930831   18.406321  depressing  \n",
       "3  -73.539947  40.066826  -75.183961  depressing  \n",
       "4  -46.714255  39.754777 -104.871981  depressing  "
      ]
     },
     "execution_count": 8,
     "metadata": {},
     "output_type": "execute_result"
    }
   ],
   "source": [
    "data.head()"
   ]
  },
  {
   "cell_type": "code",
   "execution_count": 9,
   "metadata": {},
   "outputs": [],
   "source": [
    "unique = data.copy()"
   ]
  },
  {
   "cell_type": "code",
   "execution_count": 12,
   "metadata": {},
   "outputs": [],
   "source": [
    "unique = unique.drop('right_id', axis='columns')"
   ]
  },
  {
   "cell_type": "code",
   "execution_count": 15,
   "metadata": {},
   "outputs": [
    {
     "data": {
      "text/html": [
       "<div>\n",
       "<style scoped>\n",
       "    .dataframe tbody tr th:only-of-type {\n",
       "        vertical-align: middle;\n",
       "    }\n",
       "\n",
       "    .dataframe tbody tr th {\n",
       "        vertical-align: top;\n",
       "    }\n",
       "\n",
       "    .dataframe thead th {\n",
       "        text-align: right;\n",
       "    }\n",
       "</style>\n",
       "<table border=\"1\" class=\"dataframe\">\n",
       "  <thead>\n",
       "    <tr style=\"text-align: right;\">\n",
       "      <th></th>\n",
       "      <th>left_id</th>\n",
       "      <th>winner</th>\n",
       "      <th>left_lat</th>\n",
       "      <th>left_long</th>\n",
       "      <th>right_lat</th>\n",
       "      <th>right_long</th>\n",
       "      <th>category</th>\n",
       "    </tr>\n",
       "  </thead>\n",
       "  <tbody>\n",
       "    <tr>\n",
       "      <th>0</th>\n",
       "      <td>513d7e23fdc9f0358700733a</td>\n",
       "      <td>equal</td>\n",
       "      <td>40.744156</td>\n",
       "      <td>-73.935579</td>\n",
       "      <td>-33.526384</td>\n",
       "      <td>-70.591309</td>\n",
       "      <td>depressing</td>\n",
       "    </tr>\n",
       "    <tr>\n",
       "      <th>1</th>\n",
       "      <td>50f60c4dbeb2fed91000028d</td>\n",
       "      <td>right</td>\n",
       "      <td>45.505837</td>\n",
       "      <td>-122.583705</td>\n",
       "      <td>29.752872</td>\n",
       "      <td>-95.298844</td>\n",
       "      <td>depressing</td>\n",
       "    </tr>\n",
       "    <tr>\n",
       "      <th>2</th>\n",
       "      <td>513d9ff9fdc9f0358700887c</td>\n",
       "      <td>left</td>\n",
       "      <td>33.747093</td>\n",
       "      <td>-84.289843</td>\n",
       "      <td>-33.930831</td>\n",
       "      <td>18.406321</td>\n",
       "      <td>depressing</td>\n",
       "    </tr>\n",
       "    <tr>\n",
       "      <th>3</th>\n",
       "      <td>5185cf07fdc9f03fd5000ebd</td>\n",
       "      <td>equal</td>\n",
       "      <td>45.562421</td>\n",
       "      <td>-73.539947</td>\n",
       "      <td>40.066826</td>\n",
       "      <td>-75.183961</td>\n",
       "      <td>depressing</td>\n",
       "    </tr>\n",
       "    <tr>\n",
       "      <th>4</th>\n",
       "      <td>50f5e6fefdc9f065f0006eb2</td>\n",
       "      <td>equal</td>\n",
       "      <td>-23.631807</td>\n",
       "      <td>-46.714255</td>\n",
       "      <td>39.754777</td>\n",
       "      <td>-104.871981</td>\n",
       "      <td>depressing</td>\n",
       "    </tr>\n",
       "  </tbody>\n",
       "</table>\n",
       "</div>"
      ],
      "text/plain": [
       "                    left_id winner   left_lat   left_long  right_lat  \\\n",
       "0  513d7e23fdc9f0358700733a  equal  40.744156  -73.935579 -33.526384   \n",
       "1  50f60c4dbeb2fed91000028d  right  45.505837 -122.583705  29.752872   \n",
       "2  513d9ff9fdc9f0358700887c   left  33.747093  -84.289843 -33.930831   \n",
       "3  5185cf07fdc9f03fd5000ebd  equal  45.562421  -73.539947  40.066826   \n",
       "4  50f5e6fefdc9f065f0006eb2  equal -23.631807  -46.714255  39.754777   \n",
       "\n",
       "   right_long    category  \n",
       "0  -70.591309  depressing  \n",
       "1  -95.298844  depressing  \n",
       "2   18.406321  depressing  \n",
       "3  -75.183961  depressing  \n",
       "4 -104.871981  depressing  "
      ]
     },
     "execution_count": 15,
     "metadata": {},
     "output_type": "execute_result"
    }
   ],
   "source": [
    "unique.head()"
   ]
  },
  {
   "cell_type": "code",
   "execution_count": 17,
   "metadata": {},
   "outputs": [],
   "source": [
    "# unique = unique.drop('winner', axis='columns')\n",
    "unique = unique.drop('right_lat', axis='columns')\n",
    "unique = unique.drop('right_long', axis='columns')\n",
    "unique = unique.drop('category', axis='columns')"
   ]
  },
  {
   "cell_type": "code",
   "execution_count": 19,
   "metadata": {},
   "outputs": [
    {
     "data": {
      "text/html": [
       "<div>\n",
       "<style scoped>\n",
       "    .dataframe tbody tr th:only-of-type {\n",
       "        vertical-align: middle;\n",
       "    }\n",
       "\n",
       "    .dataframe tbody tr th {\n",
       "        vertical-align: top;\n",
       "    }\n",
       "\n",
       "    .dataframe thead th {\n",
       "        text-align: right;\n",
       "    }\n",
       "</style>\n",
       "<table border=\"1\" class=\"dataframe\">\n",
       "  <thead>\n",
       "    <tr style=\"text-align: right;\">\n",
       "      <th></th>\n",
       "      <th>right_id</th>\n",
       "      <th>winner</th>\n",
       "      <th>right_lat</th>\n",
       "      <th>right_long</th>\n",
       "    </tr>\n",
       "  </thead>\n",
       "  <tbody>\n",
       "    <tr>\n",
       "      <th>0</th>\n",
       "      <td>513d7ac3fdc9f0358700693f</td>\n",
       "      <td>equal</td>\n",
       "      <td>-33.526384</td>\n",
       "      <td>-70.591309</td>\n",
       "    </tr>\n",
       "    <tr>\n",
       "      <th>1</th>\n",
       "      <td>513cb652fdc9f03587000a1e</td>\n",
       "      <td>right</td>\n",
       "      <td>29.752872</td>\n",
       "      <td>-95.298844</td>\n",
       "    </tr>\n",
       "    <tr>\n",
       "      <th>2</th>\n",
       "      <td>513cd544fdc9f03587001efc</td>\n",
       "      <td>left</td>\n",
       "      <td>-33.930831</td>\n",
       "      <td>18.406321</td>\n",
       "    </tr>\n",
       "    <tr>\n",
       "      <th>3</th>\n",
       "      <td>51422806fdc9f04926008700</td>\n",
       "      <td>equal</td>\n",
       "      <td>40.066826</td>\n",
       "      <td>-75.183961</td>\n",
       "    </tr>\n",
       "    <tr>\n",
       "      <th>4</th>\n",
       "      <td>513d6d7efdc9f0358700516c</td>\n",
       "      <td>equal</td>\n",
       "      <td>39.754777</td>\n",
       "      <td>-104.871981</td>\n",
       "    </tr>\n",
       "  </tbody>\n",
       "</table>\n",
       "</div>"
      ],
      "text/plain": [
       "                   right_id winner  right_lat  right_long\n",
       "0  513d7ac3fdc9f0358700693f  equal -33.526384  -70.591309\n",
       "1  513cb652fdc9f03587000a1e  right  29.752872  -95.298844\n",
       "2  513cd544fdc9f03587001efc   left -33.930831   18.406321\n",
       "3  51422806fdc9f04926008700  equal  40.066826  -75.183961\n",
       "4  513d6d7efdc9f0358700516c  equal  39.754777 -104.871981"
      ]
     },
     "execution_count": 19,
     "metadata": {},
     "output_type": "execute_result"
    }
   ],
   "source": [
    "right = data.copy()\n",
    "right = right.drop('left_id', axis='columns')\n",
    "right = right.drop('left_lat', axis='columns')\n",
    "right = right.drop('left_long', axis='columns')\n",
    "right = right.drop('category', axis='columns')\n",
    "right.head()"
   ]
  },
  {
   "cell_type": "code",
   "execution_count": 20,
   "metadata": {},
   "outputs": [],
   "source": [
    "right = right.drop('winner', axis='columns')"
   ]
  },
  {
   "cell_type": "code",
   "execution_count": 21,
   "metadata": {},
   "outputs": [
    {
     "data": {
      "text/html": [
       "<div>\n",
       "<style scoped>\n",
       "    .dataframe tbody tr th:only-of-type {\n",
       "        vertical-align: middle;\n",
       "    }\n",
       "\n",
       "    .dataframe tbody tr th {\n",
       "        vertical-align: top;\n",
       "    }\n",
       "\n",
       "    .dataframe thead th {\n",
       "        text-align: right;\n",
       "    }\n",
       "</style>\n",
       "<table border=\"1\" class=\"dataframe\">\n",
       "  <thead>\n",
       "    <tr style=\"text-align: right;\">\n",
       "      <th></th>\n",
       "      <th>right_id</th>\n",
       "      <th>right_lat</th>\n",
       "      <th>right_long</th>\n",
       "    </tr>\n",
       "  </thead>\n",
       "  <tbody>\n",
       "    <tr>\n",
       "      <th>0</th>\n",
       "      <td>513d7ac3fdc9f0358700693f</td>\n",
       "      <td>-33.526384</td>\n",
       "      <td>-70.591309</td>\n",
       "    </tr>\n",
       "    <tr>\n",
       "      <th>1</th>\n",
       "      <td>513cb652fdc9f03587000a1e</td>\n",
       "      <td>29.752872</td>\n",
       "      <td>-95.298844</td>\n",
       "    </tr>\n",
       "    <tr>\n",
       "      <th>2</th>\n",
       "      <td>513cd544fdc9f03587001efc</td>\n",
       "      <td>-33.930831</td>\n",
       "      <td>18.406321</td>\n",
       "    </tr>\n",
       "    <tr>\n",
       "      <th>3</th>\n",
       "      <td>51422806fdc9f04926008700</td>\n",
       "      <td>40.066826</td>\n",
       "      <td>-75.183961</td>\n",
       "    </tr>\n",
       "    <tr>\n",
       "      <th>4</th>\n",
       "      <td>513d6d7efdc9f0358700516c</td>\n",
       "      <td>39.754777</td>\n",
       "      <td>-104.871981</td>\n",
       "    </tr>\n",
       "  </tbody>\n",
       "</table>\n",
       "</div>"
      ],
      "text/plain": [
       "                   right_id  right_lat  right_long\n",
       "0  513d7ac3fdc9f0358700693f -33.526384  -70.591309\n",
       "1  513cb652fdc9f03587000a1e  29.752872  -95.298844\n",
       "2  513cd544fdc9f03587001efc -33.930831   18.406321\n",
       "3  51422806fdc9f04926008700  40.066826  -75.183961\n",
       "4  513d6d7efdc9f0358700516c  39.754777 -104.871981"
      ]
     },
     "execution_count": 21,
     "metadata": {},
     "output_type": "execute_result"
    }
   ],
   "source": [
    "right.head()"
   ]
  },
  {
   "cell_type": "code",
   "execution_count": 22,
   "metadata": {},
   "outputs": [],
   "source": [
    "unique.columns = ['id','lat','long']\n",
    "right.columns = ['id','lat','long']"
   ]
  },
  {
   "cell_type": "code",
   "execution_count": 23,
   "metadata": {},
   "outputs": [
    {
     "data": {
      "text/html": [
       "<div>\n",
       "<style scoped>\n",
       "    .dataframe tbody tr th:only-of-type {\n",
       "        vertical-align: middle;\n",
       "    }\n",
       "\n",
       "    .dataframe tbody tr th {\n",
       "        vertical-align: top;\n",
       "    }\n",
       "\n",
       "    .dataframe thead th {\n",
       "        text-align: right;\n",
       "    }\n",
       "</style>\n",
       "<table border=\"1\" class=\"dataframe\">\n",
       "  <thead>\n",
       "    <tr style=\"text-align: right;\">\n",
       "      <th></th>\n",
       "      <th>id</th>\n",
       "      <th>lat</th>\n",
       "      <th>long</th>\n",
       "    </tr>\n",
       "  </thead>\n",
       "  <tbody>\n",
       "    <tr>\n",
       "      <th>0</th>\n",
       "      <td>513d7e23fdc9f0358700733a</td>\n",
       "      <td>40.744156</td>\n",
       "      <td>-73.935579</td>\n",
       "    </tr>\n",
       "    <tr>\n",
       "      <th>1</th>\n",
       "      <td>50f60c4dbeb2fed91000028d</td>\n",
       "      <td>45.505837</td>\n",
       "      <td>-122.583705</td>\n",
       "    </tr>\n",
       "    <tr>\n",
       "      <th>2</th>\n",
       "      <td>513d9ff9fdc9f0358700887c</td>\n",
       "      <td>33.747093</td>\n",
       "      <td>-84.289843</td>\n",
       "    </tr>\n",
       "    <tr>\n",
       "      <th>3</th>\n",
       "      <td>5185cf07fdc9f03fd5000ebd</td>\n",
       "      <td>45.562421</td>\n",
       "      <td>-73.539947</td>\n",
       "    </tr>\n",
       "    <tr>\n",
       "      <th>4</th>\n",
       "      <td>50f5e6fefdc9f065f0006eb2</td>\n",
       "      <td>-23.631807</td>\n",
       "      <td>-46.714255</td>\n",
       "    </tr>\n",
       "  </tbody>\n",
       "</table>\n",
       "</div>"
      ],
      "text/plain": [
       "                         id        lat        long\n",
       "0  513d7e23fdc9f0358700733a  40.744156  -73.935579\n",
       "1  50f60c4dbeb2fed91000028d  45.505837 -122.583705\n",
       "2  513d9ff9fdc9f0358700887c  33.747093  -84.289843\n",
       "3  5185cf07fdc9f03fd5000ebd  45.562421  -73.539947\n",
       "4  50f5e6fefdc9f065f0006eb2 -23.631807  -46.714255"
      ]
     },
     "execution_count": 23,
     "metadata": {},
     "output_type": "execute_result"
    }
   ],
   "source": [
    "unique.head()"
   ]
  },
  {
   "cell_type": "code",
   "execution_count": 24,
   "metadata": {},
   "outputs": [
    {
     "data": {
      "text/html": [
       "<div>\n",
       "<style scoped>\n",
       "    .dataframe tbody tr th:only-of-type {\n",
       "        vertical-align: middle;\n",
       "    }\n",
       "\n",
       "    .dataframe tbody tr th {\n",
       "        vertical-align: top;\n",
       "    }\n",
       "\n",
       "    .dataframe thead th {\n",
       "        text-align: right;\n",
       "    }\n",
       "</style>\n",
       "<table border=\"1\" class=\"dataframe\">\n",
       "  <thead>\n",
       "    <tr style=\"text-align: right;\">\n",
       "      <th></th>\n",
       "      <th>id</th>\n",
       "      <th>lat</th>\n",
       "      <th>long</th>\n",
       "    </tr>\n",
       "  </thead>\n",
       "  <tbody>\n",
       "    <tr>\n",
       "      <th>0</th>\n",
       "      <td>513d7ac3fdc9f0358700693f</td>\n",
       "      <td>-33.526384</td>\n",
       "      <td>-70.591309</td>\n",
       "    </tr>\n",
       "    <tr>\n",
       "      <th>1</th>\n",
       "      <td>513cb652fdc9f03587000a1e</td>\n",
       "      <td>29.752872</td>\n",
       "      <td>-95.298844</td>\n",
       "    </tr>\n",
       "    <tr>\n",
       "      <th>2</th>\n",
       "      <td>513cd544fdc9f03587001efc</td>\n",
       "      <td>-33.930831</td>\n",
       "      <td>18.406321</td>\n",
       "    </tr>\n",
       "    <tr>\n",
       "      <th>3</th>\n",
       "      <td>51422806fdc9f04926008700</td>\n",
       "      <td>40.066826</td>\n",
       "      <td>-75.183961</td>\n",
       "    </tr>\n",
       "    <tr>\n",
       "      <th>4</th>\n",
       "      <td>513d6d7efdc9f0358700516c</td>\n",
       "      <td>39.754777</td>\n",
       "      <td>-104.871981</td>\n",
       "    </tr>\n",
       "  </tbody>\n",
       "</table>\n",
       "</div>"
      ],
      "text/plain": [
       "                         id        lat        long\n",
       "0  513d7ac3fdc9f0358700693f -33.526384  -70.591309\n",
       "1  513cb652fdc9f03587000a1e  29.752872  -95.298844\n",
       "2  513cd544fdc9f03587001efc -33.930831   18.406321\n",
       "3  51422806fdc9f04926008700  40.066826  -75.183961\n",
       "4  513d6d7efdc9f0358700516c  39.754777 -104.871981"
      ]
     },
     "execution_count": 24,
     "metadata": {},
     "output_type": "execute_result"
    }
   ],
   "source": [
    "right.head()"
   ]
  },
  {
   "cell_type": "code",
   "execution_count": 25,
   "metadata": {},
   "outputs": [],
   "source": [
    "con = [unique,right]\n",
    "all_images = pd.concat(con)"
   ]
  },
  {
   "cell_type": "code",
   "execution_count": 26,
   "metadata": {},
   "outputs": [
    {
     "name": "stdout",
     "output_type": "stream",
     "text": [
      "(132467, 3)\n",
      "(132467, 3)\n",
      "(264934, 3)\n"
     ]
    }
   ],
   "source": [
    "print(unique.shape)\n",
    "print(right.shape)\n",
    "print(all_images.shape)"
   ]
  },
  {
   "cell_type": "code",
   "execution_count": 27,
   "metadata": {},
   "outputs": [
    {
     "data": {
      "text/html": [
       "<div>\n",
       "<style scoped>\n",
       "    .dataframe tbody tr th:only-of-type {\n",
       "        vertical-align: middle;\n",
       "    }\n",
       "\n",
       "    .dataframe tbody tr th {\n",
       "        vertical-align: top;\n",
       "    }\n",
       "\n",
       "    .dataframe thead th {\n",
       "        text-align: right;\n",
       "    }\n",
       "</style>\n",
       "<table border=\"1\" class=\"dataframe\">\n",
       "  <thead>\n",
       "    <tr style=\"text-align: right;\">\n",
       "      <th></th>\n",
       "      <th>id</th>\n",
       "      <th>lat</th>\n",
       "      <th>long</th>\n",
       "    </tr>\n",
       "  </thead>\n",
       "  <tbody>\n",
       "    <tr>\n",
       "      <th>0</th>\n",
       "      <td>513d7e23fdc9f0358700733a</td>\n",
       "      <td>40.744156</td>\n",
       "      <td>-73.935579</td>\n",
       "    </tr>\n",
       "    <tr>\n",
       "      <th>1</th>\n",
       "      <td>50f60c4dbeb2fed91000028d</td>\n",
       "      <td>45.505837</td>\n",
       "      <td>-122.583705</td>\n",
       "    </tr>\n",
       "    <tr>\n",
       "      <th>2</th>\n",
       "      <td>513d9ff9fdc9f0358700887c</td>\n",
       "      <td>33.747093</td>\n",
       "      <td>-84.289843</td>\n",
       "    </tr>\n",
       "    <tr>\n",
       "      <th>3</th>\n",
       "      <td>5185cf07fdc9f03fd5000ebd</td>\n",
       "      <td>45.562421</td>\n",
       "      <td>-73.539947</td>\n",
       "    </tr>\n",
       "    <tr>\n",
       "      <th>4</th>\n",
       "      <td>50f5e6fefdc9f065f0006eb2</td>\n",
       "      <td>-23.631807</td>\n",
       "      <td>-46.714255</td>\n",
       "    </tr>\n",
       "  </tbody>\n",
       "</table>\n",
       "</div>"
      ],
      "text/plain": [
       "                         id        lat        long\n",
       "0  513d7e23fdc9f0358700733a  40.744156  -73.935579\n",
       "1  50f60c4dbeb2fed91000028d  45.505837 -122.583705\n",
       "2  513d9ff9fdc9f0358700887c  33.747093  -84.289843\n",
       "3  5185cf07fdc9f03fd5000ebd  45.562421  -73.539947\n",
       "4  50f5e6fefdc9f065f0006eb2 -23.631807  -46.714255"
      ]
     },
     "execution_count": 27,
     "metadata": {},
     "output_type": "execute_result"
    }
   ],
   "source": [
    "all_images.head()"
   ]
  },
  {
   "cell_type": "code",
   "execution_count": 28,
   "metadata": {},
   "outputs": [],
   "source": [
    "all_images.sort_values(\"id\", inplace = True) \n",
    "all_images.drop_duplicates(subset =\"id\", inplace = True) "
   ]
  },
  {
   "cell_type": "code",
   "execution_count": 29,
   "metadata": {},
   "outputs": [
    {
     "data": {
      "text/plain": [
       "(102932, 3)"
      ]
     },
     "execution_count": 29,
     "metadata": {},
     "output_type": "execute_result"
    }
   ],
   "source": [
    "all_images.shape"
   ]
  },
  {
   "cell_type": "code",
   "execution_count": 30,
   "metadata": {},
   "outputs": [],
   "source": [
    "all_images.to_csv('all_depressing_images.csv')"
   ]
  },
  {
   "cell_type": "code",
   "execution_count": null,
   "metadata": {},
   "outputs": [],
   "source": []
  }
 ],
 "metadata": {
  "kernelspec": {
   "display_name": "Python 3",
   "language": "python",
   "name": "python3"
  },
  "language_info": {
   "codemirror_mode": {
    "name": "ipython",
    "version": 3
   },
   "file_extension": ".py",
   "mimetype": "text/x-python",
   "name": "python",
   "nbconvert_exporter": "python",
   "pygments_lexer": "ipython3",
   "version": "3.7.5"
  }
 },
 "nbformat": 4,
 "nbformat_minor": 2
}
