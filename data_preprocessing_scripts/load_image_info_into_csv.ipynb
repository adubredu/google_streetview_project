{
 "cells": [
  {
   "cell_type": "code",
   "execution_count": 21,
   "metadata": {},
   "outputs": [],
   "source": [
    "import sys\n",
    "import csv\n",
    "from pathlib import Path\n",
    "import os\n",
    "import json\n",
    "from os import rename, listdir\n",
    "import shutil"
   ]
  },
  {
   "cell_type": "code",
   "execution_count": 29,
   "metadata": {},
   "outputs": [
    {
     "name": "stdout",
     "output_type": "stream",
     "text": [
      "0.1_mile_radius\n",
      "0.2_mile_radius\n",
      "0.3_mile_radius\n",
      "0.4_mile_radius\n",
      "0.5_mile_radius\n",
      "0.6_mile_radius\n",
      "0.7_mile_radius\n",
      "0.8_mile_radius\n",
      "0.9_mile_radius\n",
      "1.0_mile_radius\n",
      "1.1_mile_radius\n",
      "1.2_mile_radius\n",
      "1.3_mile_radius\n",
      "1.4_mile_radius\n",
      "1.5_mile_radius\n",
      "1.6_mile_radius\n",
      "1.7_mile_radius\n",
      "1.8_mile_radius\n",
      "1.9_mile_radius\n",
      "2.0_mile_radius\n",
      "2.1_mile_radius\n",
      "2.2_mile_radius\n",
      "2.3_mile_radius\n",
      "2.4_mile_radius\n",
      "2.5_mile_radius\n"
     ]
    }
   ],
   "source": [
    "miles=[]\n",
    "for mile_fold in os.listdir(\"NewHaven_raw/\"):\n",
    "    miles.append(mile_fold)\n",
    "miles.sort()\n",
    "for mile in miles:\n",
    "    print(mile)"
   ]
  },
  {
   "cell_type": "code",
   "execution_count": 30,
   "metadata": {},
   "outputs": [],
   "source": [
    "#rename folders\n",
    "for mile_fold in miles[1:]:\n",
    "    for num_fold in os.listdir(\"NewHaven_raw/\"+mile_fold):\n",
    "        os.rename('NewHaven_raw/'+mile_fold+'/'+num_fold, 'NewHaven_raw/'+mile_fold+'/'+str(int(num_fold)+500))\n",
    "    "
   ]
  },
  {
   "cell_type": "code",
   "execution_count": 31,
   "metadata": {},
   "outputs": [],
   "source": [
    "for mile_fold in os.listdir(\"NewHaven_raw/\"):\n",
    "    for num_fold in os.listdir(\"NewHaven_raw/\"+mile_fold):\n",
    "        \n",
    "        shutil.copytree('NewHaven_raw/'+mile_fold+'/'+num_fold, 'NewHaven/'+num_fold)\n",
    "#         except:\n",
    "#             print('Hartford_raw/'+mile_fold+'/'+num_fold+' already exists')"
   ]
  },
  {
   "cell_type": "code",
   "execution_count": 36,
   "metadata": {},
   "outputs": [],
   "source": [
    "#-----------------------------------------------------------------------\n",
    "# twitter-search-geo\n",
    "#  - performs a search for tweets close to New Cross, London,\n",
    "#    and outputs them to a CSV file.\n",
    "#-----------------------------------------------------------------------\n",
    "# !/usr/bin/python\n",
    "#from twitter import *\n",
    "\n",
    "import sys\n",
    "import csv\n",
    "from pathlib import Path\n",
    "import os\n",
    "import json\n",
    "from os import rename, listdir\n",
    "\n",
    "outfile = \"stamford_image_names_with_coordinates.csv\"\n",
    "fileDir = \"\"\n",
    "\n",
    "csvfile = open(outfile, \"w\")\n",
    "csvwriter = csv.writer(csvfile)\n",
    "\n",
    "row = [\"FileName\", \"latitude\", \"longitude\", \"date\"]\n",
    "csvwriter.writerow(row)\n",
    "not_found = []\n",
    "\n",
    "def readJSON(file, imageName):\n",
    "    \n",
    "    try:\n",
    "        with open(file) as f:\n",
    "            data = json.load(f)\n",
    "            filename = imageName+'.jpg'\n",
    "            latitude = data[0]['location']['lat']\n",
    "            longitude = data[0]['location']['lng']\n",
    "            date = data[0][\"date\"]\n",
    "\n",
    "            row = [filename, latitude, longitude, date]\n",
    "            csvwriter.writerow(row) \n",
    "    except:\n",
    "        print(imageName, 'not in folder')\n",
    "        not_found.append(imageName)\n",
    "    \n",
    "\n",
    "count=0\n",
    "for filename in os.listdir(\"Stamford/\"):\n",
    "    try:\n",
    "        readJSON('Stamford/'+filename+'/metadata.json', filename)\n",
    "    except:\n",
    "        pass"
   ]
  },
  {
   "cell_type": "code",
   "execution_count": 33,
   "metadata": {},
   "outputs": [
    {
     "data": {
      "text/plain": [
       "3276"
      ]
     },
     "execution_count": 33,
     "metadata": {},
     "output_type": "execute_result"
    }
   ],
   "source": [
    "len(not_found)"
   ]
  },
  {
   "cell_type": "code",
   "execution_count": null,
   "metadata": {},
   "outputs": [],
   "source": []
  }
 ],
 "metadata": {
  "kernelspec": {
   "display_name": "Python 3",
   "language": "python",
   "name": "python3"
  },
  "language_info": {
   "codemirror_mode": {
    "name": "ipython",
    "version": 3
   },
   "file_extension": ".py",
   "mimetype": "text/x-python",
   "name": "python",
   "nbconvert_exporter": "python",
   "pygments_lexer": "ipython3",
   "version": "3.7.4"
  }
 },
 "nbformat": 4,
 "nbformat_minor": 2
}
